{
  "nbformat": 4,
  "nbformat_minor": 0,
  "metadata": {
    "colab": {
      "name": "All_Arc",
      "version": "0.3.2",
      "provenance": [],
      "collapsed_sections": [
        "Wo6F8o1osnq_",
        "tGoq8c0Dsr7a"
      ]
    },
    "kernelspec": {
      "name": "python3",
      "display_name": "Python 3"
    },
    "accelerator": "GPU"
  },
  "cells": [
    {
      "metadata": {
        "id": "SR689giVV1-t",
        "colab_type": "text"
      },
      "cell_type": "markdown",
      "source": [
        "# NLP ARC Semantic Parsing"
      ]
    },
    {
      "metadata": {
        "id": "gaZp0sgLV9Mf",
        "colab_type": "text"
      },
      "cell_type": "markdown",
      "source": [
        "**Objective** : Perform semantic parsing on the [ARC dataset](http://data.allenai.org/arc/) and do the question answering task.  We have chosen to focus on a subset of the ARC dataset mainly questions that ask to `find an example of` . \n",
        "\n",
        "\n",
        "*Note :* The below code references  and is based on the .[SWAG example ](https://github.com/huggingface/pytorch-pretrained-BERT/blob/master/examples/run_swag.py) provided in the huggingface repository."
      ]
    },
    {
      "metadata": {
        "id": "lQY7Rm5G25W2",
        "colab_type": "text"
      },
      "cell_type": "markdown",
      "source": [
        "TODO\n",
        "-------\n",
        "\n",
        "1. Create dataset, dataloader for \n",
        "2. Split into train and eval\n",
        "3. Write a benchmark model --> regular BERT model\n",
        "4. Train loop & eval\n",
        "5. Hookup context sentence \n",
        "6. Accuracy and Loss are not good \n",
        "\n",
        "The Arc dataset is divided into train and eval dataset using the category {Train, Test, dev}.  For training we use records in Train category and for the test or eval we use Test and dev.\n",
        "\n"
      ]
    },
    {
      "metadata": {
        "id": "vskOYTIssJ-8",
        "colab_type": "text"
      },
      "cell_type": "markdown",
      "source": [
        "# Setup"
      ]
    },
    {
      "metadata": {
        "id": "Wo6F8o1osnq_",
        "colab_type": "text"
      },
      "cell_type": "markdown",
      "source": [
        "## Installation"
      ]
    },
    {
      "metadata": {
        "id": "V3CaJtueKc-0",
        "colab_type": "text"
      },
      "cell_type": "markdown",
      "source": [
        "Seting up the environment, we download the pre-trained bert."
      ]
    },
    {
      "metadata": {
        "id": "9dN168HWsNnK",
        "colab_type": "code",
        "outputId": "4c17bcf7-bc72-4b42-eff5-c9a6659caee2",
        "colab": {
          "base_uri": "https://localhost:8080/",
          "height": 322
        }
      },
      "cell_type": "code",
      "source": [
        "!pip install pytorch-pretrained-bert"
      ],
      "execution_count": 67,
      "outputs": [
        {
          "output_type": "stream",
          "text": [
            "Requirement already satisfied: pytorch-pretrained-bert in /usr/local/lib/python3.6/dist-packages (0.6.1)\n",
            "Requirement already satisfied: requests in /usr/local/lib/python3.6/dist-packages (from pytorch-pretrained-bert) (2.21.0)\n",
            "Requirement already satisfied: torch>=0.4.1 in /usr/local/lib/python3.6/dist-packages (from pytorch-pretrained-bert) (1.0.1.post2)\n",
            "Requirement already satisfied: tqdm in /usr/local/lib/python3.6/dist-packages (from pytorch-pretrained-bert) (4.28.1)\n",
            "Requirement already satisfied: numpy in /usr/local/lib/python3.6/dist-packages (from pytorch-pretrained-bert) (1.16.2)\n",
            "Requirement already satisfied: boto3 in /usr/local/lib/python3.6/dist-packages (from pytorch-pretrained-bert) (1.9.134)\n",
            "Requirement already satisfied: regex in /usr/local/lib/python3.6/dist-packages (from pytorch-pretrained-bert) (2018.1.10)\n",
            "Requirement already satisfied: certifi>=2017.4.17 in /usr/local/lib/python3.6/dist-packages (from requests->pytorch-pretrained-bert) (2019.3.9)\n",
            "Requirement already satisfied: idna<2.9,>=2.5 in /usr/local/lib/python3.6/dist-packages (from requests->pytorch-pretrained-bert) (2.8)\n",
            "Requirement already satisfied: chardet<3.1.0,>=3.0.2 in /usr/local/lib/python3.6/dist-packages (from requests->pytorch-pretrained-bert) (3.0.4)\n",
            "Requirement already satisfied: urllib3<1.25,>=1.21.1 in /usr/local/lib/python3.6/dist-packages (from requests->pytorch-pretrained-bert) (1.24.2)\n",
            "Requirement already satisfied: botocore<1.13.0,>=1.12.134 in /usr/local/lib/python3.6/dist-packages (from boto3->pytorch-pretrained-bert) (1.12.134)\n",
            "Requirement already satisfied: s3transfer<0.3.0,>=0.2.0 in /usr/local/lib/python3.6/dist-packages (from boto3->pytorch-pretrained-bert) (0.2.0)\n",
            "Requirement already satisfied: jmespath<1.0.0,>=0.7.1 in /usr/local/lib/python3.6/dist-packages (from boto3->pytorch-pretrained-bert) (0.9.4)\n",
            "Requirement already satisfied: docutils>=0.10 in /usr/local/lib/python3.6/dist-packages (from botocore<1.13.0,>=1.12.134->boto3->pytorch-pretrained-bert) (0.14)\n",
            "Requirement already satisfied: python-dateutil<3.0.0,>=2.1; python_version >= \"2.7\" in /usr/local/lib/python3.6/dist-packages (from botocore<1.13.0,>=1.12.134->boto3->pytorch-pretrained-bert) (2.5.3)\n",
            "Requirement already satisfied: six>=1.5 in /usr/local/lib/python3.6/dist-packages (from python-dateutil<3.0.0,>=2.1; python_version >= \"2.7\"->botocore<1.13.0,>=1.12.134->boto3->pytorch-pretrained-bert) (1.12.0)\n"
          ],
          "name": "stdout"
        }
      ]
    },
    {
      "metadata": {
        "id": "tGoq8c0Dsr7a",
        "colab_type": "text"
      },
      "cell_type": "markdown",
      "source": [
        "## Imports"
      ]
    },
    {
      "metadata": {
        "id": "4R1OxN4hutba",
        "colab_type": "code",
        "colab": {}
      },
      "cell_type": "code",
      "source": [
        "import csv\n",
        "import random\n",
        "import torch\n",
        "import torch.nn as nn\n",
        "import numpy as np\n",
        "import pandas as pd\n",
        "\n",
        "from torch.utils.data import DataLoader, RandomSampler, SequentialSampler,TensorDataset, random_split\n",
        "from pytorch_pretrained_bert import BertTokenizer, BertModel\n",
        "from pytorch_pretrained_bert.modeling import BertForMultipleChoice, BertConfig, WEIGHTS_NAME, CONFIG_NAME\n",
        "from pytorch_pretrained_bert.optimization import BertAdam\n",
        "\n",
        "import logging\n",
        "#from typing import Iterable\n",
        "logging.basicConfig(level=logging.INFO)\n",
        "logger = logging.getLogger(__name__)"
      ],
      "execution_count": 0,
      "outputs": []
    },
    {
      "metadata": {
        "id": "IckiXR95n6kU",
        "colab_type": "text"
      },
      "cell_type": "markdown",
      "source": [
        "##Variables"
      ]
    },
    {
      "metadata": {
        "id": "MpxNtw7poBim",
        "colab_type": "code",
        "outputId": "b6fbab55-79d4-4404-9fa9-1af21878df40",
        "colab": {
          "base_uri": "https://localhost:8080/",
          "height": 34
        }
      },
      "cell_type": "code",
      "source": [
        "MAX_SEQ_LENGTH = 100 # The max length of any token sequence\n",
        "TRAIN_BATCH_SIZE = 4\n",
        "VAL_BATCH_SIZE = 2\n",
        "LR = 5e-5\n",
        "NUM_EPOCHS = 5\n",
        "WARMUP_PROPORTION = 0.1\n",
        "device = torch.device(\"cuda\" if torch.cuda.is_available() else \"cpu\")\n",
        "print(f'Computation will be on {device}')\n",
        "#Set random seed\n",
        "random.seed(12)\n",
        "np.random.seed(12)\n",
        "torch.manual_seed(12);\n",
        "#WEIGHT_DECAY"
      ],
      "execution_count": 69,
      "outputs": [
        {
          "output_type": "stream",
          "text": [
            "Computation will be on cuda\n"
          ],
          "name": "stdout"
        }
      ]
    },
    {
      "metadata": {
        "id": "gE1OhlK0szMx",
        "colab_type": "text"
      },
      "cell_type": "markdown",
      "source": [
        "# Load Data"
      ]
    },
    {
      "metadata": {
        "id": "V7Hk94GILR0I",
        "colab_type": "text"
      },
      "cell_type": "markdown",
      "source": [
        "Getting the actual questionid, question and options that in the selected problem type."
      ]
    },
    {
      "metadata": {
        "id": "FaQ0yCIANn0y",
        "colab_type": "code",
        "outputId": "26224f5f-aac3-4c0f-c4e9-e4f82be035b5",
        "colab": {
          "base_uri": "https://localhost:8080/",
          "height": 205
        }
      },
      "cell_type": "code",
      "source": [
        "!mkdir -p data\n",
        "!wget -q -P data 'https://raw.githubusercontent.com/Nydhal/nlp/master/ARC-multihop.csv'\n",
        "input_file = 'data/ARC-multihop.csv'\n",
        "!head $input_file"
      ],
      "execution_count": 70,
      "outputs": [
        {
          "output_type": "stream",
          "text": [
            "questionID,question,A,B,C,D,AnswerKey\r\n",
            "Mercury_412775,A solution with a pH of 2 can be increased to a pH above 7 by adding , an acid. , water. , a base. , hydrogen.,C\r\n",
            "Mercury_7221743,Which of the following elements is the least electrically conductive? , sodium , tungsten , zinc , argon,D\r\n",
            "NCEOGA_2013_8_59,Which food provides the most energy for the body in the shortest amount of time? , potato , meat , milk , fruit,D\r\n",
            "Mercury_7084210,\"A researcher examines a marine organism that is the size of an average human hand. Without more information, which statement about the organism is most likely accurate? \", It is mobile. , It has organ systems. , It is made of many cells. , It makes its own food.,C\r\n",
            "Mercury_7227833,What structure can be found in both a virus and a cell?  , nucleic acid chain , Golgi apparatus , endoplasmic reticulum , nuclear membrane,A\r\n",
            "Mercury_7200165,Mr. Jenkins's class is studying sex chromosomes. He tells his students that the nuclei of human cells have 22 pairs of autosomes. How many sex chromosomes does the human body have? ,1,2,23,46,B\r\n",
            "Mercury_SC_412698,\"One type of cold remedy is an effervescent tablet that breaks down in water. When the tablet is placed in water, it forms gas bubbles. In this example, the formation of a gas \", is a physical property. , occurs when adding water to acid. , is a sign of a chemical change. , occurs when the water boils.,C\r\n",
            "Mercury_7001523,Storms transport water in the form of rain. The energy that starts this process comes from the , Sun. , oceans. , Earth. , clouds.,A\r\n",
            "Mercury_SC_407186,A chicken is able to gain energy that came from the Sun by , eating seeds. , drinking water. , laying eggs. , breathing oxygen.,A\r\n"
          ],
          "name": "stdout"
        }
      ]
    },
    {
      "metadata": {
        "id": "T--PFtKALtKM",
        "colab_type": "text"
      },
      "cell_type": "markdown",
      "source": [
        "<br>\n",
        "\n",
        "\n",
        "1. Getting the full ARC dataset with answers and storing them in local environment directory data.\n",
        "2. Getting  the IR results of the question set selected, questionid and the choices, and storing them in local environment directory data\n",
        "<br>"
      ]
    },
    {
      "metadata": {
        "id": "LD7ee2PEocEg",
        "colab_type": "code",
        "outputId": "9eb3b93e-1827-441c-dd43-7a5044abd32d",
        "colab": {
          "base_uri": "https://localhost:8080/",
          "height": 373
        }
      },
      "cell_type": "code",
      "source": [
        "!wget -q -P data 'https://raw.githubusercontent.com/tanishkasingh9/Bert-ARC-Challenge/master/ARC-All-answers_columns.csv'\n",
        "input_fileN = 'data/ARC-All-answers_columns.csv'\n",
        "!head $input_fileN\n",
        "!wget -q -P data 'https://raw.githubusercontent.com/tanishkasingh9/Bert-ARC-Challenge/master/retrieval_resMH.csv'\n",
        "input_fileIN = 'data/retrieval_resMH.csv'\n",
        "!head $input_fileIN"
      ],
      "execution_count": 71,
      "outputs": [
        {
          "output_type": "stream",
          "text": [
            "questionID,category,sets,question,A,B,C,D,AnswerKey\r\n",
            "TIMSS_1995_8_I15,Train,easy,\"Maria collected the gas given off by a glowing piece of charcoal. The gas was then bubbled through a small amount of colorless limewater. Part of Maria's report stated, \"\"After the gas was put into the jar, the limewater gradually changed to a milky white color.\"\" This statement is \", an observation , a conclusion , a generalization , an assumption of the investigation ,A\r\n",
            "TIMSS_2007_8_pg53,Test,chal,\"Sally placed electrodes into a beaker containing a solution and connected the electrodes to a batter. Part of Sally's report stated \"\"Bubbles were given off at one of the electrodes.\"\" The statement is \", an observation , a prediction , a conclusion , a theory ,A\r\n",
            "NYSEDREGENTS_2013_8_12,Test,easy,A cell's chromosomes contain , genes , chlorophyll , sperm , eggs,A\r\n",
            "NYSEDREGENTS_2010_8_12,Test,easy,Cancer is most often the result of , abnormal cell division , natural selection , bacterial infection , biological adaptation,A\r\n",
            "NYSEDREGENTS_2015_8_20,Test,easy,All of the different organisms interacting in a pond make up , a community , a population , the water cycle , the habitat,A\r\n",
            "NYSEDREGENTS_2010_8_9,Test,easy,What model is used to show the pattern of traits that are passed from one generation to the next in a family? , pedigree chart , dichotomous key , energy pyramid , line graph,A\r\n",
            "NYSEDREGENTS_2015_8_45,Test,easy,A student writes in a laboratory notebook: I placed a piece of iron in a beaker of water and the iron sank to the bottom of the beaker. What the student wrote in the laboratory notebook is an example of a(n) , observation , prediction , inference , hypothesis,A\r\n",
            "NYSEDREGENTS_2010_8_15,Test,easy,\"When the environment changes more quickly than a species can adapt, the species may become \", extinct , dominant , diverse , overpopulated,A\r\n",
            "NYSEDREGENTS_2013_8_16,Test,easy,Which pathway do most nutrients take after a person takes a bite of food? , digestive system -> circulatory system -> body cells , circulatory system -> body cells -> digestive system , digestive system -> body cells -> circulatory system , circulatory system -> digestive system -> body cells,A\n",
            "questionID,question,info\n",
            "Mercury_412775,solution pH 2 increased pH 7 adding,\"Add an aqueous solution of pH = 2. Add 30% NaOH solution and adjust to pH 7. c) Add an aqueous solution of pH 2. Label test tubes as follows: A- pH 2, B-pH 3, C-pH 5, D-pH 7, E-pH 8, F-pH 9, G-pH 12, H-pH 14 Add 3 ml of the indicator solution prepared in part 1 to each of the tubes. Concentrations of Pb in soil solution reach a minimum between pH 5 and 6 and increase below pH 4 to 5 and above pH 6 to 7, because metal-organic complexes form in this pH range(2). If CO 2 is removed from the solution, the pH will increase. to increase the pH in acidic soil, add limestone, 2. increased to 2 times what it was at pH 7. Add an aqueous solution of pH = 2. to\"\n",
            "Mercury_7221743,following elements least electrically conductive?,and (2) restate its published rates into at least the following rate elements: Electricity; Electrical connector including a physically nonyielding component for conducting electricity comprised at least in part of elemental carbon in the graphite form. shall be conducted according to procedures that shall include at least the following elements: 14.1. Elements of a Conduct Remedy We anticipate that any conduct-oriented decree would contain at least the following elements: - (e) The element is a metal and will not conduct electricity. Which elements conduct electricity readily? CONDUCTIBILITY : property of an element to transmit electricity. ___________________________________ What class of elements conduct electricity? and (2) restate its published rates into at least the following rate elements: Electricity; Electrical connector including a physically nonyielding component for conducting electricity comprised at least in part of elemental carbon in the graphite form. Which elements c\n",
            "NCEOGA_2013_8_59,food provides energy body shortest amount time?,\"To provide your body with energy and nutrients, eat a variety of foods in moderate amounts. A unit of measure of the amount of fuel or energy a food provides to the body. When you reduce the amount of calories from food consumption drastically in a short amount of time, your body will automatically slow down its metabolic rate in order to conserve energy for survival. Food provides the body with energy and heat. This releases a tremendous amount of energy in a short amount of time. The amount of potential energy added to the body as food. To provide your body with energy and nutrients, eat a variety of foods in moderate amounts. To provide your body with energy and nutrients, eat a variety of fo\"\n",
            "Mercury_7084210,\"researcher examines marine organism size average human hand. Without information, statement organism likely accurate?\",\"TEM is used mainly for organic research, like examining a slice of a human lung. Accurate information, provided through field and laboratory research of marine life with the regard to toxins and chemicals, identifies possible hazardous health situations for humans and marine life. The average organism size was 31% higher within marine national parks; The organization strives to provide the media and the public with accurate information about humane and responsible animal research. Now the human hand comes in a variety of sizes, but the average size is pretty large. X1014077127-00392-89066</DOCNO> Statement by Pathology Organizations on Use of Human Tissues for Research Uses of Human Tissue August 28, 1996 Background In July 1994 the National Institutes of Health (NIH) and the Centers for Disease Control and Prevention (CDC) convened a workshop to examine issues of informed consent for genetic research. Correcting for mouth size, like the Duke researchers did, the Berkeley group found 15 non-human primate species whose average hypoglossal canal size is larger than the modern human average. organize and interpret research information accurately and logically; In size, like human noses, ears, hands and other organs, there is variation in different individuals. TEM is used mainly for organic research, like examining a slice of a human lung. X1014077127-00392-89066</DOCNO> Statement by Pathology Organizations on Use of Human Tissues for Research Uses of Human Tissue August 28, 1996 Background In July 1994 the National Institutes of Health (NIH) and the Centers for Disease Control an\"\n",
            "Mercury_7227833,structure found virus cell?,Cell and Virus Structure - Virus and cell membrane structure; Cell and Virus Structure - Virus and cell membrane structure; Cell and Virus Structure - Virus and cell membrane structure; Cell and Virus Structure - Virus and cell membrane structure;\n",
            "Mercury_7200165,Mr. Jenkins's class studying sex chromosomes. tells students nuclei human cells 22 pairs autosomes. many sex chromosomes human body have?,\"The nucleus of each somatic cell in the human body contains 46 chromosomes, consisting of 22 pairs of autosomes (non-sex chromosomes) and one pair of sex chromosomes. In human beings, each cell nucleus normally contains 46 chromosomes, with 22 pairs of autosomes and 1 pair of sex chromosomes. Human cells have 22 pairs of autosomes, one pair of sex chromosomes; Each cell in the human body contains 22 pairs of autosomal chromosomes, or chromosomes that are not associated with sex chromosomes. Human somatic cells have 46 total chromosomes - 22 homologous pairs of autosomes + 1 pair of sex chromosomes 2. Autosome Any paired chromosome that is alike in the cells of males and females, as distinguished from the sex chromosomes X or Y. Humans have 22 pairs of autosomes. Chromosomes come in pairs, and a normal human cell contains 46 chromosomes, 22 pairs of autosomes and two sex chromosomes. Chromosomes come in pairs, and a normal human cell contains 46 chromosomes--22 pairs of autosomes and two sex chromosomes. The nucleus of each somatic cell in the human body contains 46 chromosomes, consisting of 22 pairs of autosomes (non-sex chromosomes) and one pair of sex chromosomes. The nucleus of each somatic cell in the human body contains 46 chromosomes, consisting of 22 pairs of autosomes (non-sex chromosomes) and one pair of sex chrom\"\n",
            "Mercury_SC_412698,\"One type cold remedy effervescent tablet breaks water. tablet placed water, forms gas bubbles. example, formation gas\",\"For example, what happens if an effervescent tablet is placed in water? answer Tablet Product that dissolves in water with effervescent action (bubbles like seltzer tablets in water) Example of Tablet: __________ ? They investigate rusting, and they observe and collect the gas formed by mixing an effervescent tablet in water. They investigate rusting, and they observe and collect the gas formed by mixing an effervescent tablet and water. For example, if two wires from a battery were placed in water, oxygen gas bubbles would form around one wire and hydrogen gas bubbles would form on the other and the water would begin to disappear. When the fizzy tablet is placed in water, many little bubbles of gas escape. A bubble of gas is formed in the water. Effervescent tablet: A tablet that fizzes to dissolve when placed in water; E Effervesce Forming and breaking gas bubbles by chemical reaction. For example, what happens if an effervescent tablet is placed in water? answer Tablet Product that dissolves in water with effervescent action (bubbles like seltzer tablets in water) Example of Tablet: __________ ? They investigate rusting, and they observe and collect the gas formed by mixing an effervescent tablet in water. The\"\n",
            "Mercury_7001523,Storms transport water form rain. energy starts process comes,\"Water, in the form of rain, of storm. Water Water can come in many forms, It is liquid in fierce rain storms. Heavy rains during the past couple of weeks have really muddied the waters on inland trout streams and just as they start to clear, another storm comes through and starts the process all over again. This storm was the start of the drought-busting rains to come. Most nutrients and energy come from dead organic matter (plant and animal parts), soil pores are filled with air and water, for instance rain water that transports particles downwards, and plant roots that penetrate the soil matrix form pores and exudate organic substances. It started to rain and a storm developed. Another is if it starts rain and there is a storm. Most of the water seen in the wash come from infrequent rain storms. Storm water discharges come from rain, snow and other precipitation. Water, in the form of rain, of storm. Heavy rains during the past couple of weeks have really muddied the waters on inland trout streams and just as they start to clear, another storm comes through and starts \"\n",
            "Mercury_SC_407186,chicken able gain energy came Sun,\"For example, students should be able to illustrate energy gain directly or indirectly from the sun; The energy comes from the sun; Energy that comes from the sun. Now the chickens have come home to roost with energy. For example, students should be able to illustrate energy gain directly or indirectly from the sun; The energy comes from the sun; Energy that comes from the sun.\"\n"
          ],
          "name": "stdout"
        }
      ]
    },
    {
      "metadata": {
        "id": "ZIEWriO7i-OK",
        "colab_type": "code",
        "outputId": "b94ec1f6-6ca9-4f0a-f606-6f08e3dce194",
        "colab": {
          "base_uri": "https://localhost:8080/",
          "height": 225
        }
      },
      "cell_type": "code",
      "source": [
        "df_corpus = pd.read_csv('data/retrieval_resMH.csv', index_col='questionID')\n",
        "df_corpus.head()"
      ],
      "execution_count": 72,
      "outputs": [
        {
          "output_type": "execute_result",
          "data": {
            "text/html": [
              "<div>\n",
              "<style scoped>\n",
              "    .dataframe tbody tr th:only-of-type {\n",
              "        vertical-align: middle;\n",
              "    }\n",
              "\n",
              "    .dataframe tbody tr th {\n",
              "        vertical-align: top;\n",
              "    }\n",
              "\n",
              "    .dataframe thead th {\n",
              "        text-align: right;\n",
              "    }\n",
              "</style>\n",
              "<table border=\"1\" class=\"dataframe\">\n",
              "  <thead>\n",
              "    <tr style=\"text-align: right;\">\n",
              "      <th></th>\n",
              "      <th>question</th>\n",
              "      <th>info</th>\n",
              "    </tr>\n",
              "    <tr>\n",
              "      <th>questionID</th>\n",
              "      <th></th>\n",
              "      <th></th>\n",
              "    </tr>\n",
              "  </thead>\n",
              "  <tbody>\n",
              "    <tr>\n",
              "      <th>Mercury_412775</th>\n",
              "      <td>solution pH 2 increased pH 7 adding</td>\n",
              "      <td>Add an aqueous solution of pH = 2. Add 30% NaO...</td>\n",
              "    </tr>\n",
              "    <tr>\n",
              "      <th>Mercury_7221743</th>\n",
              "      <td>following elements least electrically conductive?</td>\n",
              "      <td>and (2) restate its published rates into at le...</td>\n",
              "    </tr>\n",
              "    <tr>\n",
              "      <th>NCEOGA_2013_8_59</th>\n",
              "      <td>food provides energy body shortest amount time?</td>\n",
              "      <td>To provide your body with energy and nutrients...</td>\n",
              "    </tr>\n",
              "    <tr>\n",
              "      <th>Mercury_7084210</th>\n",
              "      <td>researcher examines marine organism size avera...</td>\n",
              "      <td>TEM is used mainly for organic research, like ...</td>\n",
              "    </tr>\n",
              "    <tr>\n",
              "      <th>Mercury_7227833</th>\n",
              "      <td>structure found virus cell?</td>\n",
              "      <td>Cell and Virus Structure - Virus and cell memb...</td>\n",
              "    </tr>\n",
              "  </tbody>\n",
              "</table>\n",
              "</div>"
            ],
            "text/plain": [
              "                                                           question  \\\n",
              "questionID                                                            \n",
              "Mercury_412775                  solution pH 2 increased pH 7 adding   \n",
              "Mercury_7221743   following elements least electrically conductive?   \n",
              "NCEOGA_2013_8_59    food provides energy body shortest amount time?   \n",
              "Mercury_7084210   researcher examines marine organism size avera...   \n",
              "Mercury_7227833                         structure found virus cell?   \n",
              "\n",
              "                                                               info  \n",
              "questionID                                                           \n",
              "Mercury_412775    Add an aqueous solution of pH = 2. Add 30% NaO...  \n",
              "Mercury_7221743   and (2) restate its published rates into at le...  \n",
              "NCEOGA_2013_8_59  To provide your body with energy and nutrients...  \n",
              "Mercury_7084210   TEM is used mainly for organic research, like ...  \n",
              "Mercury_7227833   Cell and Virus Structure - Virus and cell memb...  "
            ]
          },
          "metadata": {
            "tags": []
          },
          "execution_count": 72
        }
      ]
    },
    {
      "metadata": {
        "id": "5QOUxVqSNBx8",
        "colab_type": "text"
      },
      "cell_type": "markdown",
      "source": [
        "# Data Tokenization and tensor dataset creation "
      ]
    },
    {
      "metadata": {
        "id": "nopKpAWdweUt",
        "colab_type": "code",
        "colab": {}
      },
      "cell_type": "code",
      "source": [
        "class ArcInstanceTrain(object):\n",
        "    \"\"\"\"A single training/test example for the ARC dataset.\"\"\"\n",
        "    def __init__(self,\n",
        "                 question_id: str,\n",
        "                 category: str,\n",
        "                 question: str,\n",
        "                 choice_0: str,\n",
        "                 choice_1: str,\n",
        "                 choice_2: str,\n",
        "                 choice_3: str,\n",
        "                 answer_key: str = None) -> None:\n",
        "        self.question_id = question_id\n",
        "        self.category = category\n",
        "        self.question = question\n",
        "        self.choices = [\n",
        "          choice_0,\n",
        "          choice_1,\n",
        "          choice_2,\n",
        "          choice_3,\n",
        "        ]\n",
        "        self.label_map = {'A' : 0, 'B' : 1, 'C' : 2, 'D' : 3}\n",
        "        self.label = self.label_map[answer_key]\n",
        "\n",
        "    def __str__(self):\n",
        "        return self.__repr__()\n",
        "\n",
        "    def __repr__(self):\n",
        "        l = [\n",
        "            \"question_id: {}\".format(self.question_id),\n",
        "            \"category: {}\".format(self.category),\n",
        "            \"question: {}\".format(self.question),\n",
        "            \"choice_0: {}\".format(self.choices[0]),\n",
        "            \"choice_1: {}\".format(self.choices[1]),\n",
        "            \"choice_2: {}\".format(self.choices[2]),\n",
        "            \"choice_3: {}\".format(self.choices[3]),\n",
        "        ]\n",
        "\n",
        "        if self.label is not None:\n",
        "            l.append(\"label: {}\".format(self.label))\n",
        "\n",
        "        return \", \".join(l)\n",
        "      \n",
        "class ArcInstance(object):\n",
        "    \"\"\"\"For the challenge Multihop QA with context.\"\"\"\n",
        "    def __init__(self,\n",
        "                 question_id: str,\n",
        "                 context_sentence: str,\n",
        "                 question: str,\n",
        "                 choice_0: str,\n",
        "                 choice_1: str,\n",
        "                 choice_2: str,\n",
        "                 choice_3: str,\n",
        "                 answer_key: str = None) -> None:\n",
        "        self.question_id = question_id\n",
        "\n",
        "        self.context_sentence = context_sentence\n",
        "        self.question = question\n",
        "        self.choices = [\n",
        "          choice_0,\n",
        "          choice_1,\n",
        "          choice_2,\n",
        "          choice_3,\n",
        "        ]\n",
        "        self.label_map = {'A' : 0, 'B' : 1, 'C' : 2, 'D' : 3}\n",
        "        self.label = self.label_map[answer_key]\n",
        "\n",
        "    def __str__(self):\n",
        "        return self.__repr__()\n",
        "\n",
        "    def __repr__(self):\n",
        "        l = [\n",
        "            \"question_id: {}\".format(self.question_id),\n",
        "            \"context_sentence: {}\".format(self.context_sentence),\n",
        "            \"question: {}\".format(self.question),\n",
        "            \"choice_0: {}\".format(self.choices[0]),\n",
        "            \"choice_1: {}\".format(self.choices[1]),\n",
        "            \"choice_2: {}\".format(self.choices[2]),\n",
        "            \"choice_3: {}\".format(self.choices[3]),\n",
        "        ]\n",
        "\n",
        "        if self.label is not None:\n",
        "            l.append(\"label: {}\".format(self.label))\n",
        "\n",
        "        return \", \".join(l)\n",
        "      \n",
        "class InputFeatures(object):\n",
        "    def __init__(self,\n",
        "                 question_id,\n",
        "                 choices_features,\n",
        "                 label):\n",
        "        self.question_id = question_id\n",
        "        self.choices_features = [\n",
        "            {\n",
        "                'input_ids': input_ids,\n",
        "                'input_mask': input_mask,\n",
        "                'segment_ids': segment_ids\n",
        "            }\n",
        "            for _, input_ids, input_mask, segment_ids in choices_features\n",
        "        ]\n",
        "        self.label = label\n",
        "        \n"
      ],
      "execution_count": 0,
      "outputs": []
    },
    {
      "metadata": {
        "id": "NQOXEa___Gae",
        "colab_type": "code",
        "colab": {}
      },
      "cell_type": "code",
      "source": [
        "def get_context_sentence(question_id):\n",
        "    \"\"\" Retrieve all the IR-sentences relevant to question id \"\"\"\n",
        "    return df_corpus.loc[question_id]['info']\n",
        "\n",
        "def get_arc_instances(input_file):\n",
        "    arc_instances = []\n",
        "    with open(input_file) as f:\n",
        "        reader = csv.DictReader(f)\n",
        "        for row in reader:\n",
        "            arc_instance = ArcInstance(question_id=row['questionID'],\n",
        "                                       context_sentence=get_context_sentence(row['questionID']),\n",
        "                                        question=row['question'], \n",
        "                                        choice_0=row['A'], \n",
        "                                        choice_1=row['B'], \n",
        "                                        choice_2=row['C'],\n",
        "                                        choice_3=row['D'],\n",
        "                                        answer_key=row['AnswerKey']\n",
        "                                       )\n",
        "            arc_instances.append(arc_instance)\n",
        "    return arc_instances\n",
        "\n",
        "def get_arc_instances_train(input_fileN):\n",
        "    arc_instances_train = []\n",
        "    arc_instances_val = []\n",
        "    with open(input_fileN) as f:\n",
        "        reader = csv.DictReader(f)\n",
        "        for row in reader:\n",
        "            arc_instance_train = ArcInstanceTrain(question_id=row['questionID'],\n",
        "                                        category = row['category'],\n",
        "                                        question=row['question'], \n",
        "                                        choice_0=row['A'], \n",
        "                                        choice_1=row['B'], \n",
        "                                        choice_2=row['C'],\n",
        "                                        choice_3=row['D'],\n",
        "                                        answer_key=row['AnswerKey']\n",
        "                                       )\n",
        "            if arc_instance_train.category == 'Train':\n",
        "              arc_instances_train.append(arc_instance_train)\n",
        "            else: \n",
        "              arc_instances_val.append(arc_instance_train)\n",
        "    return arc_instances_train, arc_instances_val"
      ],
      "execution_count": 0,
      "outputs": []
    },
    {
      "metadata": {
        "id": "rIh_bVnI6Pee",
        "colab_type": "code",
        "colab": {}
      },
      "cell_type": "code",
      "source": [
        "def _truncate_seq_pair(tokens_a, tokens_b, max_seq_length):\n",
        "    \"\"\"Truncates a sequence pair in place to the maximum length.\"\"\"\n",
        "\n",
        "    # This is a simple heuristic which will always truncate the longer sequence\n",
        "    # one token at a time. This makes more sense than truncating an equal percent\n",
        "    # of tokens from each, since if one sequence is very short then each token\n",
        "    # that's truncated likely contains more information than a longer sequence.\n",
        "    while True:\n",
        "        total_length = len(tokens_a) + len(tokens_b)\n",
        "        if total_length <= max_seq_length:\n",
        "            break\n",
        "        if len(tokens_a) > len(tokens_b):\n",
        "            tokens_a.pop()\n",
        "        else:\n",
        "            tokens_b.pop()\n",
        "            \n",
        "            \n",
        "def _truncate_seq_pair_train(tokens_b, max_seq_length):\n",
        "    \"\"\"Truncates a sequence pair in place to the maximum length.\"\"\"\n",
        "\n",
        "    # This is a simple heuristic which will always truncate the longer sequence\n",
        "    # one token at a time. This makes more sense than truncating an equal percent\n",
        "    # of tokens from each, since if one sequence is very short then each token\n",
        "    # that's truncated likely contains more information than a longer sequence.\n",
        "    while True:\n",
        "        total_length = len(tokens_b)\n",
        "        if total_length <= max_seq_length:\n",
        "            break\n",
        "        \n",
        "        tokens_b.pop()\n"
      ],
      "execution_count": 0,
      "outputs": []
    },
    {
      "metadata": {
        "id": "yDCOpL-d0TUt",
        "colab_type": "code",
        "colab": {}
      },
      "cell_type": "code",
      "source": [
        "def convert_instances_to_features_train(instances, \n",
        "                                 tokenizer, \n",
        "                                 max_seq_length):\n",
        "    features_train = []\n",
        "    for instance_idx, instance in enumerate(instances):\n",
        "        #context_sent_tokens = tokenizer.tokenize(instance.context_sentence)\n",
        "        question_tokens = tokenizer.tokenize(instance.question)\n",
        "        #category = instance.category\n",
        "        choices_features = []\n",
        "        for choice_index, choice in enumerate(instance.choices):\n",
        "\n",
        "            choice_tokens = question_tokens + tokenizer.tokenize(choice)\n",
        "            # Modifies `choice_tokens` in\n",
        "            # place so that the total length is less than the\n",
        "            # specified length.  Account for [CLS], [SEP], [SEP] with\n",
        "            # \"- 3\"\n",
        "            _truncate_seq_pair_train(choice_tokens, max_seq_length-2)\n",
        "\n",
        "            tokens = [\"[CLS]\"] + choice_tokens + [\"[SEP]\"]\n",
        "            segment_ids = [1] * (len(choice_tokens) + 2)\n",
        "\n",
        "            input_ids = tokenizer.convert_tokens_to_ids(tokens)\n",
        "            input_mask = [1] * len(input_ids)\n",
        "\n",
        "            # Zero-pad up to the sequence length.\n",
        "            padding = [0] * (max_seq_length - len(input_ids))\n",
        "            input_ids += padding\n",
        "            input_mask += padding\n",
        "            segment_ids += padding\n",
        "\n",
        "            assert len(input_ids) == max_seq_length\n",
        "            assert len(input_mask) == max_seq_length\n",
        "            assert len(segment_ids) == max_seq_length\n",
        "\n",
        "            choices_features.append((tokens, input_ids, input_mask, segment_ids))\n",
        "\n",
        "        label = instance.label\n",
        "        \n",
        "        if instance_idx < 5:\n",
        "            logger.info(\"*** Example ***\")\n",
        "            logger.info(\"question_id: {}\".format(instance.question_id))\n",
        "            for choice_idx, (tokens, input_ids, input_mask, segment_ids) in enumerate(choices_features):\n",
        "                logger.info(\"choice: {}\".format(choice_idx))\n",
        "                #logger.info(\"category: {}\".format(category))\n",
        "                logger.info(\"tokens: {}\".format(' '.join(tokens)))\n",
        "                logger.info(\"input_ids: {}\".format(' '.join(map(str, input_ids))))\n",
        "                logger.info(\"input_mask: {}\".format(' '.join(map(str, input_mask))))\n",
        "                logger.info(\"segment_ids: {}\".format(' '.join(map(str, segment_ids))))\n",
        "            logger.info(\"label: {}\".format(label))\n",
        "        \n",
        "        features_train.append(InputFeatures(question_id=instance.question_id,\n",
        "                                     choices_features=choices_features,\n",
        "                                     label = label))\n",
        "    return features_train"
      ],
      "execution_count": 0,
      "outputs": []
    },
    {
      "metadata": {
        "id": "O8KqKiw9Q22B",
        "colab_type": "code",
        "colab": {}
      },
      "cell_type": "code",
      "source": [
        "def convert_instances_to_features(instances, \n",
        "                                 tokenizer, \n",
        "                                 max_seq_length):\n",
        "    features = []\n",
        "    for instance_idx, instance in enumerate(instances):\n",
        "        context_sent_tokens = tokenizer.tokenize(instance.context_sentence)\n",
        "        question_tokens = tokenizer.tokenize(instance.question)\n",
        "\n",
        "        choices_features = []\n",
        "        for choice_index, choice in enumerate(instance.choices):\n",
        "            # We create a copy of the context tokens in order to be\n",
        "            # able to shrink it according to choice_tokens\n",
        "            context_tokens_choice = context_sent_tokens.copy()\n",
        "            choice_tokens = question_tokens + tokenizer.tokenize(choice)\n",
        "            # Modifies `context_tokens_choice` and `choice_tokens` in\n",
        "            # place so that the total length is less than the\n",
        "            # specified length.  Account for [CLS], [SEP], [SEP] with\n",
        "            # \"- 3\"\n",
        "            _truncate_seq_pair(context_tokens_choice, choice_tokens, max_seq_length -3)\n",
        "            tokens = [\"[CLS]\"] + context_tokens_choice + [\"[SEP]\"] + choice_tokens + [\"[SEP]\"]\n",
        "            segment_ids = [0] * (len(context_tokens_choice) + 2) + [1] * (len(choice_tokens) + 1)\n",
        "\n",
        "            input_ids = tokenizer.convert_tokens_to_ids(tokens)\n",
        "            input_mask = [1] * len(input_ids)\n",
        "\n",
        "            # Zero-pad up to the sequence length.\n",
        "            padding = [0] * (max_seq_length - len(input_ids))\n",
        "            input_ids += padding\n",
        "            input_mask += padding\n",
        "            segment_ids += padding\n",
        "\n",
        "            assert len(input_ids) == max_seq_length\n",
        "            assert len(input_mask) == max_seq_length\n",
        "            assert len(segment_ids) == max_seq_length\n",
        "\n",
        "            choices_features.append((tokens, input_ids, input_mask, segment_ids))\n",
        "\n",
        "        label = instance.label\n",
        "        \n",
        "        if instance_idx < 5:\n",
        "            logger.info(\"*** Example ***\")\n",
        "            logger.info(\"question_id: {}\".format(instance.question_id))\n",
        "            for choice_idx, (tokens, input_ids, input_mask, segment_ids) in enumerate(choices_features):\n",
        "                logger.info(\"choice: {}\".format(choice_idx))\n",
        "                logger.info(\"tokens: {}\".format(' '.join(tokens)))\n",
        "                logger.info(\"input_ids: {}\".format(' '.join(map(str, input_ids))))\n",
        "                logger.info(\"input_mask: {}\".format(' '.join(map(str, input_mask))))\n",
        "                logger.info(\"segment_ids: {}\".format(' '.join(map(str, segment_ids))))\n",
        "            logger.info(\"label: {}\".format(label))\n",
        "        \n",
        "        features.append(InputFeatures(question_id=instance.question_id,\n",
        "                                     choices_features=choices_features,\n",
        "                                     label = label))\n",
        "    return features"
      ],
      "execution_count": 0,
      "outputs": []
    },
    {
      "metadata": {
        "id": "ZxwoBQh4wNSe",
        "colab_type": "code",
        "colab": {}
      },
      "cell_type": "code",
      "source": [
        "def create_dataset(feats):\n",
        "    all_input_ids = torch.tensor(select_field(feats, 'input_ids'), dtype=torch.long)\n",
        "    all_input_mask = torch.tensor(select_field(feats, 'input_mask'), dtype=torch.long)\n",
        "    all_segment_ids = torch.tensor(select_field(feats, 'segment_ids'), dtype=torch.long)\n",
        "    all_label = torch.tensor([f.label for f in feats], dtype=torch.long)\n",
        "    train_data = TensorDataset(all_input_ids, all_input_mask, all_segment_ids, all_label)\n",
        "    return train_data\n",
        "\n",
        "def select_field(features, field):\n",
        "    return [\n",
        "        [\n",
        "            choice[field]\n",
        "            for choice in feature.choices_features\n",
        "        ]\n",
        "        for feature in features\n",
        "]"
      ],
      "execution_count": 0,
      "outputs": []
    },
    {
      "metadata": {
        "id": "EhQnRlhdNV37",
        "colab_type": "text"
      },
      "cell_type": "markdown",
      "source": [
        "# Splitting Dataset into train and eval"
      ]
    },
    {
      "metadata": {
        "id": "9tc10pfZh6Fl",
        "colab_type": "code",
        "colab": {}
      },
      "cell_type": "code",
      "source": [
        "def get_train_val_size(dataset_sz, train_ratio=0.7):\n",
        "    train_size = int(dataset_sz * train_ratio)\n",
        "    val_size = len(arc_instances) - train_size\n",
        "    print(f'Train Size : {train_size} ; Validation Size : {val_size}')\n",
        "    return [train_size, val_size]"
      ],
      "execution_count": 0,
      "outputs": []
    },
    {
      "metadata": {
        "id": "AB842oxxuo0C",
        "colab_type": "code",
        "outputId": "2b584190-c1ae-4859-a9cd-58e0adb45562",
        "colab": {
          "base_uri": "https://localhost:8080/",
          "height": 3918
        }
      },
      "cell_type": "code",
      "source": [
        "tokenizer = BertTokenizer.from_pretrained('bert-base-uncased')\n",
        "arc_instances_train, arc_instances_val= get_arc_instances_train(input_fileN)\n",
        "feats_train = convert_instances_to_features_train(arc_instances_train, tokenizer=tokenizer,max_seq_length = 100)\n",
        "feats_val = convert_instances_to_features_train(arc_instances_val, tokenizer=tokenizer,max_seq_length = 100)\n",
        "dataset_train = create_dataset(feats_train)\n",
        "dataset_val = create_dataset(feats_val)\n",
        "arc_instance_eval = get_arc_instances(input_file)"
      ],
      "execution_count": 80,
      "outputs": [
        {
          "output_type": "stream",
          "text": [
            "INFO:pytorch_pretrained_bert.tokenization:loading vocabulary file https://s3.amazonaws.com/models.huggingface.co/bert/bert-base-uncased-vocab.txt from cache at /root/.pytorch_pretrained_bert/26bc1ad6c0ac742e9b52263248f6d0f00068293b33709fae12320c0e35ccfbbb.542ce4285a40d23a559526243235df47c5f75c197f04f37d1a0c124c32c9a084\n",
            "INFO:__main__:*** Example ***\n",
            "INFO:__main__:question_id: TIMSS_1995_8_I15\n",
            "INFO:__main__:choice: 0\n",
            "INFO:__main__:tokens: [CLS] maria collected the gas given off by a glowing piece of charcoal . the gas was then bubble ##d through a small amount of color ##less lime ##water . part of maria ' s report stated , \" after the gas was put into the jar , the lime ##water gradually changed to a milky white color . \" this statement is an observation [SEP]\n",
            "INFO:__main__:input_ids: 101 3814 5067 1996 3806 2445 2125 2011 1037 10156 3538 1997 18872 1012 1996 3806 2001 2059 11957 2094 2083 1037 2235 3815 1997 3609 3238 14123 5880 1012 2112 1997 3814 1005 1055 3189 3090 1010 1000 2044 1996 3806 2001 2404 2046 1996 15723 1010 1996 14123 5880 6360 2904 2000 1037 21582 2317 3609 1012 1000 2023 4861 2003 2019 8089 102 0 0 0 0 0 0 0 0 0 0 0 0 0 0 0 0 0 0 0 0 0 0 0 0 0 0 0 0 0 0 0 0 0 0\n",
            "INFO:__main__:input_mask: 1 1 1 1 1 1 1 1 1 1 1 1 1 1 1 1 1 1 1 1 1 1 1 1 1 1 1 1 1 1 1 1 1 1 1 1 1 1 1 1 1 1 1 1 1 1 1 1 1 1 1 1 1 1 1 1 1 1 1 1 1 1 1 1 1 1 0 0 0 0 0 0 0 0 0 0 0 0 0 0 0 0 0 0 0 0 0 0 0 0 0 0 0 0 0 0 0 0 0 0\n",
            "INFO:__main__:segment_ids: 1 1 1 1 1 1 1 1 1 1 1 1 1 1 1 1 1 1 1 1 1 1 1 1 1 1 1 1 1 1 1 1 1 1 1 1 1 1 1 1 1 1 1 1 1 1 1 1 1 1 1 1 1 1 1 1 1 1 1 1 1 1 1 1 1 1 0 0 0 0 0 0 0 0 0 0 0 0 0 0 0 0 0 0 0 0 0 0 0 0 0 0 0 0 0 0 0 0 0 0\n",
            "INFO:__main__:choice: 1\n",
            "INFO:__main__:tokens: [CLS] maria collected the gas given off by a glowing piece of charcoal . the gas was then bubble ##d through a small amount of color ##less lime ##water . part of maria ' s report stated , \" after the gas was put into the jar , the lime ##water gradually changed to a milky white color . \" this statement is a conclusion [SEP]\n",
            "INFO:__main__:input_ids: 101 3814 5067 1996 3806 2445 2125 2011 1037 10156 3538 1997 18872 1012 1996 3806 2001 2059 11957 2094 2083 1037 2235 3815 1997 3609 3238 14123 5880 1012 2112 1997 3814 1005 1055 3189 3090 1010 1000 2044 1996 3806 2001 2404 2046 1996 15723 1010 1996 14123 5880 6360 2904 2000 1037 21582 2317 3609 1012 1000 2023 4861 2003 1037 7091 102 0 0 0 0 0 0 0 0 0 0 0 0 0 0 0 0 0 0 0 0 0 0 0 0 0 0 0 0 0 0 0 0 0 0\n",
            "INFO:__main__:input_mask: 1 1 1 1 1 1 1 1 1 1 1 1 1 1 1 1 1 1 1 1 1 1 1 1 1 1 1 1 1 1 1 1 1 1 1 1 1 1 1 1 1 1 1 1 1 1 1 1 1 1 1 1 1 1 1 1 1 1 1 1 1 1 1 1 1 1 0 0 0 0 0 0 0 0 0 0 0 0 0 0 0 0 0 0 0 0 0 0 0 0 0 0 0 0 0 0 0 0 0 0\n",
            "INFO:__main__:segment_ids: 1 1 1 1 1 1 1 1 1 1 1 1 1 1 1 1 1 1 1 1 1 1 1 1 1 1 1 1 1 1 1 1 1 1 1 1 1 1 1 1 1 1 1 1 1 1 1 1 1 1 1 1 1 1 1 1 1 1 1 1 1 1 1 1 1 1 0 0 0 0 0 0 0 0 0 0 0 0 0 0 0 0 0 0 0 0 0 0 0 0 0 0 0 0 0 0 0 0 0 0\n",
            "INFO:__main__:choice: 2\n",
            "INFO:__main__:tokens: [CLS] maria collected the gas given off by a glowing piece of charcoal . the gas was then bubble ##d through a small amount of color ##less lime ##water . part of maria ' s report stated , \" after the gas was put into the jar , the lime ##water gradually changed to a milky white color . \" this statement is a general ##ization [SEP]\n",
            "INFO:__main__:input_ids: 101 3814 5067 1996 3806 2445 2125 2011 1037 10156 3538 1997 18872 1012 1996 3806 2001 2059 11957 2094 2083 1037 2235 3815 1997 3609 3238 14123 5880 1012 2112 1997 3814 1005 1055 3189 3090 1010 1000 2044 1996 3806 2001 2404 2046 1996 15723 1010 1996 14123 5880 6360 2904 2000 1037 21582 2317 3609 1012 1000 2023 4861 2003 1037 2236 3989 102 0 0 0 0 0 0 0 0 0 0 0 0 0 0 0 0 0 0 0 0 0 0 0 0 0 0 0 0 0 0 0 0 0\n",
            "INFO:__main__:input_mask: 1 1 1 1 1 1 1 1 1 1 1 1 1 1 1 1 1 1 1 1 1 1 1 1 1 1 1 1 1 1 1 1 1 1 1 1 1 1 1 1 1 1 1 1 1 1 1 1 1 1 1 1 1 1 1 1 1 1 1 1 1 1 1 1 1 1 1 0 0 0 0 0 0 0 0 0 0 0 0 0 0 0 0 0 0 0 0 0 0 0 0 0 0 0 0 0 0 0 0 0\n",
            "INFO:__main__:segment_ids: 1 1 1 1 1 1 1 1 1 1 1 1 1 1 1 1 1 1 1 1 1 1 1 1 1 1 1 1 1 1 1 1 1 1 1 1 1 1 1 1 1 1 1 1 1 1 1 1 1 1 1 1 1 1 1 1 1 1 1 1 1 1 1 1 1 1 1 0 0 0 0 0 0 0 0 0 0 0 0 0 0 0 0 0 0 0 0 0 0 0 0 0 0 0 0 0 0 0 0 0\n",
            "INFO:__main__:choice: 3\n",
            "INFO:__main__:tokens: [CLS] maria collected the gas given off by a glowing piece of charcoal . the gas was then bubble ##d through a small amount of color ##less lime ##water . part of maria ' s report stated , \" after the gas was put into the jar , the lime ##water gradually changed to a milky white color . \" this statement is an assumption of the investigation [SEP]\n",
            "INFO:__main__:input_ids: 101 3814 5067 1996 3806 2445 2125 2011 1037 10156 3538 1997 18872 1012 1996 3806 2001 2059 11957 2094 2083 1037 2235 3815 1997 3609 3238 14123 5880 1012 2112 1997 3814 1005 1055 3189 3090 1010 1000 2044 1996 3806 2001 2404 2046 1996 15723 1010 1996 14123 5880 6360 2904 2000 1037 21582 2317 3609 1012 1000 2023 4861 2003 2019 11213 1997 1996 4812 102 0 0 0 0 0 0 0 0 0 0 0 0 0 0 0 0 0 0 0 0 0 0 0 0 0 0 0 0 0 0 0\n",
            "INFO:__main__:input_mask: 1 1 1 1 1 1 1 1 1 1 1 1 1 1 1 1 1 1 1 1 1 1 1 1 1 1 1 1 1 1 1 1 1 1 1 1 1 1 1 1 1 1 1 1 1 1 1 1 1 1 1 1 1 1 1 1 1 1 1 1 1 1 1 1 1 1 1 1 1 0 0 0 0 0 0 0 0 0 0 0 0 0 0 0 0 0 0 0 0 0 0 0 0 0 0 0 0 0 0 0\n",
            "INFO:__main__:segment_ids: 1 1 1 1 1 1 1 1 1 1 1 1 1 1 1 1 1 1 1 1 1 1 1 1 1 1 1 1 1 1 1 1 1 1 1 1 1 1 1 1 1 1 1 1 1 1 1 1 1 1 1 1 1 1 1 1 1 1 1 1 1 1 1 1 1 1 1 1 1 0 0 0 0 0 0 0 0 0 0 0 0 0 0 0 0 0 0 0 0 0 0 0 0 0 0 0 0 0 0 0\n",
            "INFO:__main__:label: 0\n",
            "INFO:__main__:*** Example ***\n",
            "INFO:__main__:question_id: NYSEDREGENTS_2011_8_4\n",
            "INFO:__main__:choice: 0\n",
            "INFO:__main__:tokens: [CLS] which type of energy in gasoline is transformed into mechanical energy in a motorcycle engine ? chemical [SEP]\n",
            "INFO:__main__:input_ids: 101 2029 2828 1997 2943 1999 13753 2003 8590 2046 6228 2943 1999 1037 9055 3194 1029 5072 102 0 0 0 0 0 0 0 0 0 0 0 0 0 0 0 0 0 0 0 0 0 0 0 0 0 0 0 0 0 0 0 0 0 0 0 0 0 0 0 0 0 0 0 0 0 0 0 0 0 0 0 0 0 0 0 0 0 0 0 0 0 0 0 0 0 0 0 0 0 0 0 0 0 0 0 0 0 0 0 0 0\n",
            "INFO:__main__:input_mask: 1 1 1 1 1 1 1 1 1 1 1 1 1 1 1 1 1 1 1 0 0 0 0 0 0 0 0 0 0 0 0 0 0 0 0 0 0 0 0 0 0 0 0 0 0 0 0 0 0 0 0 0 0 0 0 0 0 0 0 0 0 0 0 0 0 0 0 0 0 0 0 0 0 0 0 0 0 0 0 0 0 0 0 0 0 0 0 0 0 0 0 0 0 0 0 0 0 0 0 0\n",
            "INFO:__main__:segment_ids: 1 1 1 1 1 1 1 1 1 1 1 1 1 1 1 1 1 1 1 0 0 0 0 0 0 0 0 0 0 0 0 0 0 0 0 0 0 0 0 0 0 0 0 0 0 0 0 0 0 0 0 0 0 0 0 0 0 0 0 0 0 0 0 0 0 0 0 0 0 0 0 0 0 0 0 0 0 0 0 0 0 0 0 0 0 0 0 0 0 0 0 0 0 0 0 0 0 0 0 0\n",
            "INFO:__main__:choice: 1\n",
            "INFO:__main__:tokens: [CLS] which type of energy in gasoline is transformed into mechanical energy in a motorcycle engine ? nuclear [SEP]\n",
            "INFO:__main__:input_ids: 101 2029 2828 1997 2943 1999 13753 2003 8590 2046 6228 2943 1999 1037 9055 3194 1029 4517 102 0 0 0 0 0 0 0 0 0 0 0 0 0 0 0 0 0 0 0 0 0 0 0 0 0 0 0 0 0 0 0 0 0 0 0 0 0 0 0 0 0 0 0 0 0 0 0 0 0 0 0 0 0 0 0 0 0 0 0 0 0 0 0 0 0 0 0 0 0 0 0 0 0 0 0 0 0 0 0 0 0\n",
            "INFO:__main__:input_mask: 1 1 1 1 1 1 1 1 1 1 1 1 1 1 1 1 1 1 1 0 0 0 0 0 0 0 0 0 0 0 0 0 0 0 0 0 0 0 0 0 0 0 0 0 0 0 0 0 0 0 0 0 0 0 0 0 0 0 0 0 0 0 0 0 0 0 0 0 0 0 0 0 0 0 0 0 0 0 0 0 0 0 0 0 0 0 0 0 0 0 0 0 0 0 0 0 0 0 0 0\n",
            "INFO:__main__:segment_ids: 1 1 1 1 1 1 1 1 1 1 1 1 1 1 1 1 1 1 1 0 0 0 0 0 0 0 0 0 0 0 0 0 0 0 0 0 0 0 0 0 0 0 0 0 0 0 0 0 0 0 0 0 0 0 0 0 0 0 0 0 0 0 0 0 0 0 0 0 0 0 0 0 0 0 0 0 0 0 0 0 0 0 0 0 0 0 0 0 0 0 0 0 0 0 0 0 0 0 0 0\n",
            "INFO:__main__:choice: 2\n",
            "INFO:__main__:tokens: [CLS] which type of energy in gasoline is transformed into mechanical energy in a motorcycle engine ? magnetic [SEP]\n",
            "INFO:__main__:input_ids: 101 2029 2828 1997 2943 1999 13753 2003 8590 2046 6228 2943 1999 1037 9055 3194 1029 8060 102 0 0 0 0 0 0 0 0 0 0 0 0 0 0 0 0 0 0 0 0 0 0 0 0 0 0 0 0 0 0 0 0 0 0 0 0 0 0 0 0 0 0 0 0 0 0 0 0 0 0 0 0 0 0 0 0 0 0 0 0 0 0 0 0 0 0 0 0 0 0 0 0 0 0 0 0 0 0 0 0 0\n",
            "INFO:__main__:input_mask: 1 1 1 1 1 1 1 1 1 1 1 1 1 1 1 1 1 1 1 0 0 0 0 0 0 0 0 0 0 0 0 0 0 0 0 0 0 0 0 0 0 0 0 0 0 0 0 0 0 0 0 0 0 0 0 0 0 0 0 0 0 0 0 0 0 0 0 0 0 0 0 0 0 0 0 0 0 0 0 0 0 0 0 0 0 0 0 0 0 0 0 0 0 0 0 0 0 0 0 0\n",
            "INFO:__main__:segment_ids: 1 1 1 1 1 1 1 1 1 1 1 1 1 1 1 1 1 1 1 0 0 0 0 0 0 0 0 0 0 0 0 0 0 0 0 0 0 0 0 0 0 0 0 0 0 0 0 0 0 0 0 0 0 0 0 0 0 0 0 0 0 0 0 0 0 0 0 0 0 0 0 0 0 0 0 0 0 0 0 0 0 0 0 0 0 0 0 0 0 0 0 0 0 0 0 0 0 0 0 0\n",
            "INFO:__main__:choice: 3\n",
            "INFO:__main__:tokens: [CLS] which type of energy in gasoline is transformed into mechanical energy in a motorcycle engine ? electrical [SEP]\n",
            "INFO:__main__:input_ids: 101 2029 2828 1997 2943 1999 13753 2003 8590 2046 6228 2943 1999 1037 9055 3194 1029 5992 102 0 0 0 0 0 0 0 0 0 0 0 0 0 0 0 0 0 0 0 0 0 0 0 0 0 0 0 0 0 0 0 0 0 0 0 0 0 0 0 0 0 0 0 0 0 0 0 0 0 0 0 0 0 0 0 0 0 0 0 0 0 0 0 0 0 0 0 0 0 0 0 0 0 0 0 0 0 0 0 0 0\n",
            "INFO:__main__:input_mask: 1 1 1 1 1 1 1 1 1 1 1 1 1 1 1 1 1 1 1 0 0 0 0 0 0 0 0 0 0 0 0 0 0 0 0 0 0 0 0 0 0 0 0 0 0 0 0 0 0 0 0 0 0 0 0 0 0 0 0 0 0 0 0 0 0 0 0 0 0 0 0 0 0 0 0 0 0 0 0 0 0 0 0 0 0 0 0 0 0 0 0 0 0 0 0 0 0 0 0 0\n",
            "INFO:__main__:segment_ids: 1 1 1 1 1 1 1 1 1 1 1 1 1 1 1 1 1 1 1 0 0 0 0 0 0 0 0 0 0 0 0 0 0 0 0 0 0 0 0 0 0 0 0 0 0 0 0 0 0 0 0 0 0 0 0 0 0 0 0 0 0 0 0 0 0 0 0 0 0 0 0 0 0 0 0 0 0 0 0 0 0 0 0 0 0 0 0 0 0 0 0 0 0 0 0 0 0 0 0 0\n",
            "INFO:__main__:label: 0\n",
            "INFO:__main__:*** Example ***\n",
            "INFO:__main__:question_id: NYSEDREGENTS_2007_8_7\n",
            "INFO:__main__:choice: 0\n",
            "INFO:__main__:tokens: [CLS] which group of organisms can show significant trait changes in the shortest period of time ? bacteria [SEP]\n",
            "INFO:__main__:input_ids: 101 2029 2177 1997 11767 2064 2265 3278 18275 3431 1999 1996 20047 2558 1997 2051 1029 10327 102 0 0 0 0 0 0 0 0 0 0 0 0 0 0 0 0 0 0 0 0 0 0 0 0 0 0 0 0 0 0 0 0 0 0 0 0 0 0 0 0 0 0 0 0 0 0 0 0 0 0 0 0 0 0 0 0 0 0 0 0 0 0 0 0 0 0 0 0 0 0 0 0 0 0 0 0 0 0 0 0 0\n",
            "INFO:__main__:input_mask: 1 1 1 1 1 1 1 1 1 1 1 1 1 1 1 1 1 1 1 0 0 0 0 0 0 0 0 0 0 0 0 0 0 0 0 0 0 0 0 0 0 0 0 0 0 0 0 0 0 0 0 0 0 0 0 0 0 0 0 0 0 0 0 0 0 0 0 0 0 0 0 0 0 0 0 0 0 0 0 0 0 0 0 0 0 0 0 0 0 0 0 0 0 0 0 0 0 0 0 0\n",
            "INFO:__main__:segment_ids: 1 1 1 1 1 1 1 1 1 1 1 1 1 1 1 1 1 1 1 0 0 0 0 0 0 0 0 0 0 0 0 0 0 0 0 0 0 0 0 0 0 0 0 0 0 0 0 0 0 0 0 0 0 0 0 0 0 0 0 0 0 0 0 0 0 0 0 0 0 0 0 0 0 0 0 0 0 0 0 0 0 0 0 0 0 0 0 0 0 0 0 0 0 0 0 0 0 0 0 0\n",
            "INFO:__main__:choice: 1\n",
            "INFO:__main__:tokens: [CLS] which group of organisms can show significant trait changes in the shortest period of time ? birds [SEP]\n",
            "INFO:__main__:input_ids: 101 2029 2177 1997 11767 2064 2265 3278 18275 3431 1999 1996 20047 2558 1997 2051 1029 5055 102 0 0 0 0 0 0 0 0 0 0 0 0 0 0 0 0 0 0 0 0 0 0 0 0 0 0 0 0 0 0 0 0 0 0 0 0 0 0 0 0 0 0 0 0 0 0 0 0 0 0 0 0 0 0 0 0 0 0 0 0 0 0 0 0 0 0 0 0 0 0 0 0 0 0 0 0 0 0 0 0 0\n",
            "INFO:__main__:input_mask: 1 1 1 1 1 1 1 1 1 1 1 1 1 1 1 1 1 1 1 0 0 0 0 0 0 0 0 0 0 0 0 0 0 0 0 0 0 0 0 0 0 0 0 0 0 0 0 0 0 0 0 0 0 0 0 0 0 0 0 0 0 0 0 0 0 0 0 0 0 0 0 0 0 0 0 0 0 0 0 0 0 0 0 0 0 0 0 0 0 0 0 0 0 0 0 0 0 0 0 0\n",
            "INFO:__main__:segment_ids: 1 1 1 1 1 1 1 1 1 1 1 1 1 1 1 1 1 1 1 0 0 0 0 0 0 0 0 0 0 0 0 0 0 0 0 0 0 0 0 0 0 0 0 0 0 0 0 0 0 0 0 0 0 0 0 0 0 0 0 0 0 0 0 0 0 0 0 0 0 0 0 0 0 0 0 0 0 0 0 0 0 0 0 0 0 0 0 0 0 0 0 0 0 0 0 0 0 0 0 0\n",
            "INFO:__main__:choice: 2\n",
            "INFO:__main__:tokens: [CLS] which group of organisms can show significant trait changes in the shortest period of time ? fish [SEP]\n",
            "INFO:__main__:input_ids: 101 2029 2177 1997 11767 2064 2265 3278 18275 3431 1999 1996 20047 2558 1997 2051 1029 3869 102 0 0 0 0 0 0 0 0 0 0 0 0 0 0 0 0 0 0 0 0 0 0 0 0 0 0 0 0 0 0 0 0 0 0 0 0 0 0 0 0 0 0 0 0 0 0 0 0 0 0 0 0 0 0 0 0 0 0 0 0 0 0 0 0 0 0 0 0 0 0 0 0 0 0 0 0 0 0 0 0 0\n",
            "INFO:__main__:input_mask: 1 1 1 1 1 1 1 1 1 1 1 1 1 1 1 1 1 1 1 0 0 0 0 0 0 0 0 0 0 0 0 0 0 0 0 0 0 0 0 0 0 0 0 0 0 0 0 0 0 0 0 0 0 0 0 0 0 0 0 0 0 0 0 0 0 0 0 0 0 0 0 0 0 0 0 0 0 0 0 0 0 0 0 0 0 0 0 0 0 0 0 0 0 0 0 0 0 0 0 0\n",
            "INFO:__main__:segment_ids: 1 1 1 1 1 1 1 1 1 1 1 1 1 1 1 1 1 1 1 0 0 0 0 0 0 0 0 0 0 0 0 0 0 0 0 0 0 0 0 0 0 0 0 0 0 0 0 0 0 0 0 0 0 0 0 0 0 0 0 0 0 0 0 0 0 0 0 0 0 0 0 0 0 0 0 0 0 0 0 0 0 0 0 0 0 0 0 0 0 0 0 0 0 0 0 0 0 0 0 0\n",
            "INFO:__main__:choice: 3\n",
            "INFO:__main__:tokens: [CLS] which group of organisms can show significant trait changes in the shortest period of time ? reptiles [SEP]\n",
            "INFO:__main__:input_ids: 101 2029 2177 1997 11767 2064 2265 3278 18275 3431 1999 1996 20047 2558 1997 2051 1029 20978 102 0 0 0 0 0 0 0 0 0 0 0 0 0 0 0 0 0 0 0 0 0 0 0 0 0 0 0 0 0 0 0 0 0 0 0 0 0 0 0 0 0 0 0 0 0 0 0 0 0 0 0 0 0 0 0 0 0 0 0 0 0 0 0 0 0 0 0 0 0 0 0 0 0 0 0 0 0 0 0 0 0\n",
            "INFO:__main__:input_mask: 1 1 1 1 1 1 1 1 1 1 1 1 1 1 1 1 1 1 1 0 0 0 0 0 0 0 0 0 0 0 0 0 0 0 0 0 0 0 0 0 0 0 0 0 0 0 0 0 0 0 0 0 0 0 0 0 0 0 0 0 0 0 0 0 0 0 0 0 0 0 0 0 0 0 0 0 0 0 0 0 0 0 0 0 0 0 0 0 0 0 0 0 0 0 0 0 0 0 0 0\n",
            "INFO:__main__:segment_ids: 1 1 1 1 1 1 1 1 1 1 1 1 1 1 1 1 1 1 1 0 0 0 0 0 0 0 0 0 0 0 0 0 0 0 0 0 0 0 0 0 0 0 0 0 0 0 0 0 0 0 0 0 0 0 0 0 0 0 0 0 0 0 0 0 0 0 0 0 0 0 0 0 0 0 0 0 0 0 0 0 0 0 0 0 0 0 0 0 0 0 0 0 0 0 0 0 0 0 0 0\n",
            "INFO:__main__:label: 0\n",
            "INFO:__main__:*** Example ***\n",
            "INFO:__main__:question_id: NYSEDREGENTS_2011_8_20\n",
            "INFO:__main__:choice: 0\n",
            "INFO:__main__:tokens: [CLS] which sequence represents the order of development for many plants ? seed develops inside fruit - > seed is dispersed - > seed ge ##rmin ##ates - > plant grows [SEP]\n",
            "INFO:__main__:input_ids: 101 2029 5537 5836 1996 2344 1997 2458 2005 2116 4264 1029 6534 11791 2503 5909 1011 1028 6534 2003 15484 1011 1028 6534 16216 27512 8520 1011 1028 3269 7502 102 0 0 0 0 0 0 0 0 0 0 0 0 0 0 0 0 0 0 0 0 0 0 0 0 0 0 0 0 0 0 0 0 0 0 0 0 0 0 0 0 0 0 0 0 0 0 0 0 0 0 0 0 0 0 0 0 0 0 0 0 0 0 0 0 0 0 0 0\n",
            "INFO:__main__:input_mask: 1 1 1 1 1 1 1 1 1 1 1 1 1 1 1 1 1 1 1 1 1 1 1 1 1 1 1 1 1 1 1 1 0 0 0 0 0 0 0 0 0 0 0 0 0 0 0 0 0 0 0 0 0 0 0 0 0 0 0 0 0 0 0 0 0 0 0 0 0 0 0 0 0 0 0 0 0 0 0 0 0 0 0 0 0 0 0 0 0 0 0 0 0 0 0 0 0 0 0 0\n",
            "INFO:__main__:segment_ids: 1 1 1 1 1 1 1 1 1 1 1 1 1 1 1 1 1 1 1 1 1 1 1 1 1 1 1 1 1 1 1 1 0 0 0 0 0 0 0 0 0 0 0 0 0 0 0 0 0 0 0 0 0 0 0 0 0 0 0 0 0 0 0 0 0 0 0 0 0 0 0 0 0 0 0 0 0 0 0 0 0 0 0 0 0 0 0 0 0 0 0 0 0 0 0 0 0 0 0 0\n",
            "INFO:__main__:choice: 1\n",
            "INFO:__main__:tokens: [CLS] which sequence represents the order of development for many plants ? seed is dispersed - > seed develops inside fruit - > seed ge ##rmin ##ates - > plant grows [SEP]\n",
            "INFO:__main__:input_ids: 101 2029 5537 5836 1996 2344 1997 2458 2005 2116 4264 1029 6534 2003 15484 1011 1028 6534 11791 2503 5909 1011 1028 6534 16216 27512 8520 1011 1028 3269 7502 102 0 0 0 0 0 0 0 0 0 0 0 0 0 0 0 0 0 0 0 0 0 0 0 0 0 0 0 0 0 0 0 0 0 0 0 0 0 0 0 0 0 0 0 0 0 0 0 0 0 0 0 0 0 0 0 0 0 0 0 0 0 0 0 0 0 0 0 0\n",
            "INFO:__main__:input_mask: 1 1 1 1 1 1 1 1 1 1 1 1 1 1 1 1 1 1 1 1 1 1 1 1 1 1 1 1 1 1 1 1 0 0 0 0 0 0 0 0 0 0 0 0 0 0 0 0 0 0 0 0 0 0 0 0 0 0 0 0 0 0 0 0 0 0 0 0 0 0 0 0 0 0 0 0 0 0 0 0 0 0 0 0 0 0 0 0 0 0 0 0 0 0 0 0 0 0 0 0\n",
            "INFO:__main__:segment_ids: 1 1 1 1 1 1 1 1 1 1 1 1 1 1 1 1 1 1 1 1 1 1 1 1 1 1 1 1 1 1 1 1 0 0 0 0 0 0 0 0 0 0 0 0 0 0 0 0 0 0 0 0 0 0 0 0 0 0 0 0 0 0 0 0 0 0 0 0 0 0 0 0 0 0 0 0 0 0 0 0 0 0 0 0 0 0 0 0 0 0 0 0 0 0 0 0 0 0 0 0\n",
            "INFO:__main__:choice: 2\n",
            "INFO:__main__:tokens: [CLS] which sequence represents the order of development for many plants ? seed ge ##rmin ##ates - > plant grows - > seed is dispersed - > seed develops inside fruit [SEP]\n",
            "INFO:__main__:input_ids: 101 2029 5537 5836 1996 2344 1997 2458 2005 2116 4264 1029 6534 16216 27512 8520 1011 1028 3269 7502 1011 1028 6534 2003 15484 1011 1028 6534 11791 2503 5909 102 0 0 0 0 0 0 0 0 0 0 0 0 0 0 0 0 0 0 0 0 0 0 0 0 0 0 0 0 0 0 0 0 0 0 0 0 0 0 0 0 0 0 0 0 0 0 0 0 0 0 0 0 0 0 0 0 0 0 0 0 0 0 0 0 0 0 0 0\n",
            "INFO:__main__:input_mask: 1 1 1 1 1 1 1 1 1 1 1 1 1 1 1 1 1 1 1 1 1 1 1 1 1 1 1 1 1 1 1 1 0 0 0 0 0 0 0 0 0 0 0 0 0 0 0 0 0 0 0 0 0 0 0 0 0 0 0 0 0 0 0 0 0 0 0 0 0 0 0 0 0 0 0 0 0 0 0 0 0 0 0 0 0 0 0 0 0 0 0 0 0 0 0 0 0 0 0 0\n",
            "INFO:__main__:segment_ids: 1 1 1 1 1 1 1 1 1 1 1 1 1 1 1 1 1 1 1 1 1 1 1 1 1 1 1 1 1 1 1 1 0 0 0 0 0 0 0 0 0 0 0 0 0 0 0 0 0 0 0 0 0 0 0 0 0 0 0 0 0 0 0 0 0 0 0 0 0 0 0 0 0 0 0 0 0 0 0 0 0 0 0 0 0 0 0 0 0 0 0 0 0 0 0 0 0 0 0 0\n",
            "INFO:__main__:choice: 3\n",
            "INFO:__main__:tokens: [CLS] which sequence represents the order of development for many plants ? seed is dispersed - > plant grows - > seed ge ##rmin ##ates - > seed develops inside fruit [SEP]\n",
            "INFO:__main__:input_ids: 101 2029 5537 5836 1996 2344 1997 2458 2005 2116 4264 1029 6534 2003 15484 1011 1028 3269 7502 1011 1028 6534 16216 27512 8520 1011 1028 6534 11791 2503 5909 102 0 0 0 0 0 0 0 0 0 0 0 0 0 0 0 0 0 0 0 0 0 0 0 0 0 0 0 0 0 0 0 0 0 0 0 0 0 0 0 0 0 0 0 0 0 0 0 0 0 0 0 0 0 0 0 0 0 0 0 0 0 0 0 0 0 0 0 0\n",
            "INFO:__main__:input_mask: 1 1 1 1 1 1 1 1 1 1 1 1 1 1 1 1 1 1 1 1 1 1 1 1 1 1 1 1 1 1 1 1 0 0 0 0 0 0 0 0 0 0 0 0 0 0 0 0 0 0 0 0 0 0 0 0 0 0 0 0 0 0 0 0 0 0 0 0 0 0 0 0 0 0 0 0 0 0 0 0 0 0 0 0 0 0 0 0 0 0 0 0 0 0 0 0 0 0 0 0\n",
            "INFO:__main__:segment_ids: 1 1 1 1 1 1 1 1 1 1 1 1 1 1 1 1 1 1 1 1 1 1 1 1 1 1 1 1 1 1 1 1 0 0 0 0 0 0 0 0 0 0 0 0 0 0 0 0 0 0 0 0 0 0 0 0 0 0 0 0 0 0 0 0 0 0 0 0 0 0 0 0 0 0 0 0 0 0 0 0 0 0 0 0 0 0 0 0 0 0 0 0 0 0 0 0 0 0 0 0\n",
            "INFO:__main__:label: 0\n",
            "INFO:__main__:*** Example ***\n",
            "INFO:__main__:question_id: NYSEDREGENTS_2005_8_9\n",
            "INFO:__main__:choice: 0\n",
            "INFO:__main__:tokens: [CLS] which equipment will best separate a mixture of iron filing ##s and black pepper ? magnet [SEP]\n",
            "INFO:__main__:input_ids: 101 2029 3941 2097 2190 3584 1037 8150 1997 3707 15242 2015 1998 2304 11565 1029 16853 102 0 0 0 0 0 0 0 0 0 0 0 0 0 0 0 0 0 0 0 0 0 0 0 0 0 0 0 0 0 0 0 0 0 0 0 0 0 0 0 0 0 0 0 0 0 0 0 0 0 0 0 0 0 0 0 0 0 0 0 0 0 0 0 0 0 0 0 0 0 0 0 0 0 0 0 0 0 0 0 0 0 0\n",
            "INFO:__main__:input_mask: 1 1 1 1 1 1 1 1 1 1 1 1 1 1 1 1 1 1 0 0 0 0 0 0 0 0 0 0 0 0 0 0 0 0 0 0 0 0 0 0 0 0 0 0 0 0 0 0 0 0 0 0 0 0 0 0 0 0 0 0 0 0 0 0 0 0 0 0 0 0 0 0 0 0 0 0 0 0 0 0 0 0 0 0 0 0 0 0 0 0 0 0 0 0 0 0 0 0 0 0\n",
            "INFO:__main__:segment_ids: 1 1 1 1 1 1 1 1 1 1 1 1 1 1 1 1 1 1 0 0 0 0 0 0 0 0 0 0 0 0 0 0 0 0 0 0 0 0 0 0 0 0 0 0 0 0 0 0 0 0 0 0 0 0 0 0 0 0 0 0 0 0 0 0 0 0 0 0 0 0 0 0 0 0 0 0 0 0 0 0 0 0 0 0 0 0 0 0 0 0 0 0 0 0 0 0 0 0 0 0\n",
            "INFO:__main__:choice: 1\n",
            "INFO:__main__:tokens: [CLS] which equipment will best separate a mixture of iron filing ##s and black pepper ? filter paper [SEP]\n",
            "INFO:__main__:input_ids: 101 2029 3941 2097 2190 3584 1037 8150 1997 3707 15242 2015 1998 2304 11565 1029 11307 3259 102 0 0 0 0 0 0 0 0 0 0 0 0 0 0 0 0 0 0 0 0 0 0 0 0 0 0 0 0 0 0 0 0 0 0 0 0 0 0 0 0 0 0 0 0 0 0 0 0 0 0 0 0 0 0 0 0 0 0 0 0 0 0 0 0 0 0 0 0 0 0 0 0 0 0 0 0 0 0 0 0 0\n",
            "INFO:__main__:input_mask: 1 1 1 1 1 1 1 1 1 1 1 1 1 1 1 1 1 1 1 0 0 0 0 0 0 0 0 0 0 0 0 0 0 0 0 0 0 0 0 0 0 0 0 0 0 0 0 0 0 0 0 0 0 0 0 0 0 0 0 0 0 0 0 0 0 0 0 0 0 0 0 0 0 0 0 0 0 0 0 0 0 0 0 0 0 0 0 0 0 0 0 0 0 0 0 0 0 0 0 0\n",
            "INFO:__main__:segment_ids: 1 1 1 1 1 1 1 1 1 1 1 1 1 1 1 1 1 1 1 0 0 0 0 0 0 0 0 0 0 0 0 0 0 0 0 0 0 0 0 0 0 0 0 0 0 0 0 0 0 0 0 0 0 0 0 0 0 0 0 0 0 0 0 0 0 0 0 0 0 0 0 0 0 0 0 0 0 0 0 0 0 0 0 0 0 0 0 0 0 0 0 0 0 0 0 0 0 0 0 0\n",
            "INFO:__main__:choice: 2\n",
            "INFO:__main__:tokens: [CLS] which equipment will best separate a mixture of iron filing ##s and black pepper ? triple - beam balance [SEP]\n",
            "INFO:__main__:input_ids: 101 2029 3941 2097 2190 3584 1037 8150 1997 3707 15242 2015 1998 2304 11565 1029 6420 1011 7504 5703 102 0 0 0 0 0 0 0 0 0 0 0 0 0 0 0 0 0 0 0 0 0 0 0 0 0 0 0 0 0 0 0 0 0 0 0 0 0 0 0 0 0 0 0 0 0 0 0 0 0 0 0 0 0 0 0 0 0 0 0 0 0 0 0 0 0 0 0 0 0 0 0 0 0 0 0 0 0 0 0\n",
            "INFO:__main__:input_mask: 1 1 1 1 1 1 1 1 1 1 1 1 1 1 1 1 1 1 1 1 1 0 0 0 0 0 0 0 0 0 0 0 0 0 0 0 0 0 0 0 0 0 0 0 0 0 0 0 0 0 0 0 0 0 0 0 0 0 0 0 0 0 0 0 0 0 0 0 0 0 0 0 0 0 0 0 0 0 0 0 0 0 0 0 0 0 0 0 0 0 0 0 0 0 0 0 0 0 0 0\n",
            "INFO:__main__:segment_ids: 1 1 1 1 1 1 1 1 1 1 1 1 1 1 1 1 1 1 1 1 1 0 0 0 0 0 0 0 0 0 0 0 0 0 0 0 0 0 0 0 0 0 0 0 0 0 0 0 0 0 0 0 0 0 0 0 0 0 0 0 0 0 0 0 0 0 0 0 0 0 0 0 0 0 0 0 0 0 0 0 0 0 0 0 0 0 0 0 0 0 0 0 0 0 0 0 0 0 0 0\n",
            "INFO:__main__:choice: 3\n",
            "INFO:__main__:tokens: [CLS] which equipment will best separate a mixture of iron filing ##s and black pepper ? vol ##tm ##eter [SEP]\n",
            "INFO:__main__:input_ids: 101 2029 3941 2097 2190 3584 1037 8150 1997 3707 15242 2015 1998 2304 11565 1029 5285 21246 15141 102 0 0 0 0 0 0 0 0 0 0 0 0 0 0 0 0 0 0 0 0 0 0 0 0 0 0 0 0 0 0 0 0 0 0 0 0 0 0 0 0 0 0 0 0 0 0 0 0 0 0 0 0 0 0 0 0 0 0 0 0 0 0 0 0 0 0 0 0 0 0 0 0 0 0 0 0 0 0 0 0\n",
            "INFO:__main__:input_mask: 1 1 1 1 1 1 1 1 1 1 1 1 1 1 1 1 1 1 1 1 0 0 0 0 0 0 0 0 0 0 0 0 0 0 0 0 0 0 0 0 0 0 0 0 0 0 0 0 0 0 0 0 0 0 0 0 0 0 0 0 0 0 0 0 0 0 0 0 0 0 0 0 0 0 0 0 0 0 0 0 0 0 0 0 0 0 0 0 0 0 0 0 0 0 0 0 0 0 0 0\n",
            "INFO:__main__:segment_ids: 1 1 1 1 1 1 1 1 1 1 1 1 1 1 1 1 1 1 1 1 0 0 0 0 0 0 0 0 0 0 0 0 0 0 0 0 0 0 0 0 0 0 0 0 0 0 0 0 0 0 0 0 0 0 0 0 0 0 0 0 0 0 0 0 0 0 0 0 0 0 0 0 0 0 0 0 0 0 0 0 0 0 0 0 0 0 0 0 0 0 0 0 0 0 0 0 0 0 0 0\n",
            "INFO:__main__:label: 0\n",
            "INFO:__main__:*** Example ***\n",
            "INFO:__main__:question_id: TIMSS_2007_8_pg53\n",
            "INFO:__main__:choice: 0\n",
            "INFO:__main__:tokens: [CLS] sally placed electrode ##s into a beak ##er containing a solution and connected the electrode ##s to a batter . part of sally ' s report stated \" bubbles were given off at one of the electrode ##s . \" the statement is an observation [SEP]\n",
            "INFO:__main__:input_ids: 101 8836 2872 28688 2015 2046 1037 23525 2121 4820 1037 5576 1998 4198 1996 28688 2015 2000 1037 23801 1012 2112 1997 8836 1005 1055 3189 3090 1000 17255 2020 2445 2125 2012 2028 1997 1996 28688 2015 1012 1000 1996 4861 2003 2019 8089 102 0 0 0 0 0 0 0 0 0 0 0 0 0 0 0 0 0 0 0 0 0 0 0 0 0 0 0 0 0 0 0 0 0 0 0 0 0 0 0 0 0 0 0 0 0 0 0 0 0 0 0 0 0\n",
            "INFO:__main__:input_mask: 1 1 1 1 1 1 1 1 1 1 1 1 1 1 1 1 1 1 1 1 1 1 1 1 1 1 1 1 1 1 1 1 1 1 1 1 1 1 1 1 1 1 1 1 1 1 1 0 0 0 0 0 0 0 0 0 0 0 0 0 0 0 0 0 0 0 0 0 0 0 0 0 0 0 0 0 0 0 0 0 0 0 0 0 0 0 0 0 0 0 0 0 0 0 0 0 0 0 0 0\n",
            "INFO:__main__:segment_ids: 1 1 1 1 1 1 1 1 1 1 1 1 1 1 1 1 1 1 1 1 1 1 1 1 1 1 1 1 1 1 1 1 1 1 1 1 1 1 1 1 1 1 1 1 1 1 1 0 0 0 0 0 0 0 0 0 0 0 0 0 0 0 0 0 0 0 0 0 0 0 0 0 0 0 0 0 0 0 0 0 0 0 0 0 0 0 0 0 0 0 0 0 0 0 0 0 0 0 0 0\n",
            "INFO:__main__:choice: 1\n",
            "INFO:__main__:tokens: [CLS] sally placed electrode ##s into a beak ##er containing a solution and connected the electrode ##s to a batter . part of sally ' s report stated \" bubbles were given off at one of the electrode ##s . \" the statement is a prediction [SEP]\n",
            "INFO:__main__:input_ids: 101 8836 2872 28688 2015 2046 1037 23525 2121 4820 1037 5576 1998 4198 1996 28688 2015 2000 1037 23801 1012 2112 1997 8836 1005 1055 3189 3090 1000 17255 2020 2445 2125 2012 2028 1997 1996 28688 2015 1012 1000 1996 4861 2003 1037 17547 102 0 0 0 0 0 0 0 0 0 0 0 0 0 0 0 0 0 0 0 0 0 0 0 0 0 0 0 0 0 0 0 0 0 0 0 0 0 0 0 0 0 0 0 0 0 0 0 0 0 0 0 0 0\n",
            "INFO:__main__:input_mask: 1 1 1 1 1 1 1 1 1 1 1 1 1 1 1 1 1 1 1 1 1 1 1 1 1 1 1 1 1 1 1 1 1 1 1 1 1 1 1 1 1 1 1 1 1 1 1 0 0 0 0 0 0 0 0 0 0 0 0 0 0 0 0 0 0 0 0 0 0 0 0 0 0 0 0 0 0 0 0 0 0 0 0 0 0 0 0 0 0 0 0 0 0 0 0 0 0 0 0 0\n",
            "INFO:__main__:segment_ids: 1 1 1 1 1 1 1 1 1 1 1 1 1 1 1 1 1 1 1 1 1 1 1 1 1 1 1 1 1 1 1 1 1 1 1 1 1 1 1 1 1 1 1 1 1 1 1 0 0 0 0 0 0 0 0 0 0 0 0 0 0 0 0 0 0 0 0 0 0 0 0 0 0 0 0 0 0 0 0 0 0 0 0 0 0 0 0 0 0 0 0 0 0 0 0 0 0 0 0 0\n",
            "INFO:__main__:choice: 2\n",
            "INFO:__main__:tokens: [CLS] sally placed electrode ##s into a beak ##er containing a solution and connected the electrode ##s to a batter . part of sally ' s report stated \" bubbles were given off at one of the electrode ##s . \" the statement is a conclusion [SEP]\n",
            "INFO:__main__:input_ids: 101 8836 2872 28688 2015 2046 1037 23525 2121 4820 1037 5576 1998 4198 1996 28688 2015 2000 1037 23801 1012 2112 1997 8836 1005 1055 3189 3090 1000 17255 2020 2445 2125 2012 2028 1997 1996 28688 2015 1012 1000 1996 4861 2003 1037 7091 102 0 0 0 0 0 0 0 0 0 0 0 0 0 0 0 0 0 0 0 0 0 0 0 0 0 0 0 0 0 0 0 0 0 0 0 0 0 0 0 0 0 0 0 0 0 0 0 0 0 0 0 0 0\n",
            "INFO:__main__:input_mask: 1 1 1 1 1 1 1 1 1 1 1 1 1 1 1 1 1 1 1 1 1 1 1 1 1 1 1 1 1 1 1 1 1 1 1 1 1 1 1 1 1 1 1 1 1 1 1 0 0 0 0 0 0 0 0 0 0 0 0 0 0 0 0 0 0 0 0 0 0 0 0 0 0 0 0 0 0 0 0 0 0 0 0 0 0 0 0 0 0 0 0 0 0 0 0 0 0 0 0 0\n",
            "INFO:__main__:segment_ids: 1 1 1 1 1 1 1 1 1 1 1 1 1 1 1 1 1 1 1 1 1 1 1 1 1 1 1 1 1 1 1 1 1 1 1 1 1 1 1 1 1 1 1 1 1 1 1 0 0 0 0 0 0 0 0 0 0 0 0 0 0 0 0 0 0 0 0 0 0 0 0 0 0 0 0 0 0 0 0 0 0 0 0 0 0 0 0 0 0 0 0 0 0 0 0 0 0 0 0 0\n",
            "INFO:__main__:choice: 3\n",
            "INFO:__main__:tokens: [CLS] sally placed electrode ##s into a beak ##er containing a solution and connected the electrode ##s to a batter . part of sally ' s report stated \" bubbles were given off at one of the electrode ##s . \" the statement is a theory [SEP]\n",
            "INFO:__main__:input_ids: 101 8836 2872 28688 2015 2046 1037 23525 2121 4820 1037 5576 1998 4198 1996 28688 2015 2000 1037 23801 1012 2112 1997 8836 1005 1055 3189 3090 1000 17255 2020 2445 2125 2012 2028 1997 1996 28688 2015 1012 1000 1996 4861 2003 1037 3399 102 0 0 0 0 0 0 0 0 0 0 0 0 0 0 0 0 0 0 0 0 0 0 0 0 0 0 0 0 0 0 0 0 0 0 0 0 0 0 0 0 0 0 0 0 0 0 0 0 0 0 0 0 0\n",
            "INFO:__main__:input_mask: 1 1 1 1 1 1 1 1 1 1 1 1 1 1 1 1 1 1 1 1 1 1 1 1 1 1 1 1 1 1 1 1 1 1 1 1 1 1 1 1 1 1 1 1 1 1 1 0 0 0 0 0 0 0 0 0 0 0 0 0 0 0 0 0 0 0 0 0 0 0 0 0 0 0 0 0 0 0 0 0 0 0 0 0 0 0 0 0 0 0 0 0 0 0 0 0 0 0 0 0\n",
            "INFO:__main__:segment_ids: 1 1 1 1 1 1 1 1 1 1 1 1 1 1 1 1 1 1 1 1 1 1 1 1 1 1 1 1 1 1 1 1 1 1 1 1 1 1 1 1 1 1 1 1 1 1 1 0 0 0 0 0 0 0 0 0 0 0 0 0 0 0 0 0 0 0 0 0 0 0 0 0 0 0 0 0 0 0 0 0 0 0 0 0 0 0 0 0 0 0 0 0 0 0 0 0 0 0 0 0\n",
            "INFO:__main__:label: 0\n",
            "INFO:__main__:*** Example ***\n",
            "INFO:__main__:question_id: NYSEDREGENTS_2013_8_12\n",
            "INFO:__main__:choice: 0\n",
            "INFO:__main__:tokens: [CLS] a cell ' s chromosomes contain genes [SEP]\n",
            "INFO:__main__:input_ids: 101 1037 3526 1005 1055 26874 5383 9165 102 0 0 0 0 0 0 0 0 0 0 0 0 0 0 0 0 0 0 0 0 0 0 0 0 0 0 0 0 0 0 0 0 0 0 0 0 0 0 0 0 0 0 0 0 0 0 0 0 0 0 0 0 0 0 0 0 0 0 0 0 0 0 0 0 0 0 0 0 0 0 0 0 0 0 0 0 0 0 0 0 0 0 0 0 0 0 0 0 0 0 0\n",
            "INFO:__main__:input_mask: 1 1 1 1 1 1 1 1 1 0 0 0 0 0 0 0 0 0 0 0 0 0 0 0 0 0 0 0 0 0 0 0 0 0 0 0 0 0 0 0 0 0 0 0 0 0 0 0 0 0 0 0 0 0 0 0 0 0 0 0 0 0 0 0 0 0 0 0 0 0 0 0 0 0 0 0 0 0 0 0 0 0 0 0 0 0 0 0 0 0 0 0 0 0 0 0 0 0 0 0\n",
            "INFO:__main__:segment_ids: 1 1 1 1 1 1 1 1 1 0 0 0 0 0 0 0 0 0 0 0 0 0 0 0 0 0 0 0 0 0 0 0 0 0 0 0 0 0 0 0 0 0 0 0 0 0 0 0 0 0 0 0 0 0 0 0 0 0 0 0 0 0 0 0 0 0 0 0 0 0 0 0 0 0 0 0 0 0 0 0 0 0 0 0 0 0 0 0 0 0 0 0 0 0 0 0 0 0 0 0\n",
            "INFO:__main__:choice: 1\n",
            "INFO:__main__:tokens: [CLS] a cell ' s chromosomes contain ch ##lor ##op ##hyl ##l [SEP]\n",
            "INFO:__main__:input_ids: 101 1037 3526 1005 1055 26874 5383 10381 10626 7361 29598 2140 102 0 0 0 0 0 0 0 0 0 0 0 0 0 0 0 0 0 0 0 0 0 0 0 0 0 0 0 0 0 0 0 0 0 0 0 0 0 0 0 0 0 0 0 0 0 0 0 0 0 0 0 0 0 0 0 0 0 0 0 0 0 0 0 0 0 0 0 0 0 0 0 0 0 0 0 0 0 0 0 0 0 0 0 0 0 0 0\n",
            "INFO:__main__:input_mask: 1 1 1 1 1 1 1 1 1 1 1 1 1 0 0 0 0 0 0 0 0 0 0 0 0 0 0 0 0 0 0 0 0 0 0 0 0 0 0 0 0 0 0 0 0 0 0 0 0 0 0 0 0 0 0 0 0 0 0 0 0 0 0 0 0 0 0 0 0 0 0 0 0 0 0 0 0 0 0 0 0 0 0 0 0 0 0 0 0 0 0 0 0 0 0 0 0 0 0 0\n",
            "INFO:__main__:segment_ids: 1 1 1 1 1 1 1 1 1 1 1 1 1 0 0 0 0 0 0 0 0 0 0 0 0 0 0 0 0 0 0 0 0 0 0 0 0 0 0 0 0 0 0 0 0 0 0 0 0 0 0 0 0 0 0 0 0 0 0 0 0 0 0 0 0 0 0 0 0 0 0 0 0 0 0 0 0 0 0 0 0 0 0 0 0 0 0 0 0 0 0 0 0 0 0 0 0 0 0 0\n",
            "INFO:__main__:choice: 2\n",
            "INFO:__main__:tokens: [CLS] a cell ' s chromosomes contain sperm [SEP]\n",
            "INFO:__main__:input_ids: 101 1037 3526 1005 1055 26874 5383 18047 102 0 0 0 0 0 0 0 0 0 0 0 0 0 0 0 0 0 0 0 0 0 0 0 0 0 0 0 0 0 0 0 0 0 0 0 0 0 0 0 0 0 0 0 0 0 0 0 0 0 0 0 0 0 0 0 0 0 0 0 0 0 0 0 0 0 0 0 0 0 0 0 0 0 0 0 0 0 0 0 0 0 0 0 0 0 0 0 0 0 0 0\n",
            "INFO:__main__:input_mask: 1 1 1 1 1 1 1 1 1 0 0 0 0 0 0 0 0 0 0 0 0 0 0 0 0 0 0 0 0 0 0 0 0 0 0 0 0 0 0 0 0 0 0 0 0 0 0 0 0 0 0 0 0 0 0 0 0 0 0 0 0 0 0 0 0 0 0 0 0 0 0 0 0 0 0 0 0 0 0 0 0 0 0 0 0 0 0 0 0 0 0 0 0 0 0 0 0 0 0 0\n",
            "INFO:__main__:segment_ids: 1 1 1 1 1 1 1 1 1 0 0 0 0 0 0 0 0 0 0 0 0 0 0 0 0 0 0 0 0 0 0 0 0 0 0 0 0 0 0 0 0 0 0 0 0 0 0 0 0 0 0 0 0 0 0 0 0 0 0 0 0 0 0 0 0 0 0 0 0 0 0 0 0 0 0 0 0 0 0 0 0 0 0 0 0 0 0 0 0 0 0 0 0 0 0 0 0 0 0 0\n",
            "INFO:__main__:choice: 3\n",
            "INFO:__main__:tokens: [CLS] a cell ' s chromosomes contain eggs [SEP]\n",
            "INFO:__main__:input_ids: 101 1037 3526 1005 1055 26874 5383 6763 102 0 0 0 0 0 0 0 0 0 0 0 0 0 0 0 0 0 0 0 0 0 0 0 0 0 0 0 0 0 0 0 0 0 0 0 0 0 0 0 0 0 0 0 0 0 0 0 0 0 0 0 0 0 0 0 0 0 0 0 0 0 0 0 0 0 0 0 0 0 0 0 0 0 0 0 0 0 0 0 0 0 0 0 0 0 0 0 0 0 0 0\n",
            "INFO:__main__:input_mask: 1 1 1 1 1 1 1 1 1 0 0 0 0 0 0 0 0 0 0 0 0 0 0 0 0 0 0 0 0 0 0 0 0 0 0 0 0 0 0 0 0 0 0 0 0 0 0 0 0 0 0 0 0 0 0 0 0 0 0 0 0 0 0 0 0 0 0 0 0 0 0 0 0 0 0 0 0 0 0 0 0 0 0 0 0 0 0 0 0 0 0 0 0 0 0 0 0 0 0 0\n",
            "INFO:__main__:segment_ids: 1 1 1 1 1 1 1 1 1 0 0 0 0 0 0 0 0 0 0 0 0 0 0 0 0 0 0 0 0 0 0 0 0 0 0 0 0 0 0 0 0 0 0 0 0 0 0 0 0 0 0 0 0 0 0 0 0 0 0 0 0 0 0 0 0 0 0 0 0 0 0 0 0 0 0 0 0 0 0 0 0 0 0 0 0 0 0 0 0 0 0 0 0 0 0 0 0 0 0 0\n",
            "INFO:__main__:label: 0\n",
            "INFO:__main__:*** Example ***\n",
            "INFO:__main__:question_id: NYSEDREGENTS_2010_8_12\n",
            "INFO:__main__:choice: 0\n",
            "INFO:__main__:tokens: [CLS] cancer is most often the result of abnormal cell division [SEP]\n",
            "INFO:__main__:input_ids: 101 4456 2003 2087 2411 1996 2765 1997 19470 3526 2407 102 0 0 0 0 0 0 0 0 0 0 0 0 0 0 0 0 0 0 0 0 0 0 0 0 0 0 0 0 0 0 0 0 0 0 0 0 0 0 0 0 0 0 0 0 0 0 0 0 0 0 0 0 0 0 0 0 0 0 0 0 0 0 0 0 0 0 0 0 0 0 0 0 0 0 0 0 0 0 0 0 0 0 0 0 0 0 0 0\n",
            "INFO:__main__:input_mask: 1 1 1 1 1 1 1 1 1 1 1 1 0 0 0 0 0 0 0 0 0 0 0 0 0 0 0 0 0 0 0 0 0 0 0 0 0 0 0 0 0 0 0 0 0 0 0 0 0 0 0 0 0 0 0 0 0 0 0 0 0 0 0 0 0 0 0 0 0 0 0 0 0 0 0 0 0 0 0 0 0 0 0 0 0 0 0 0 0 0 0 0 0 0 0 0 0 0 0 0\n",
            "INFO:__main__:segment_ids: 1 1 1 1 1 1 1 1 1 1 1 1 0 0 0 0 0 0 0 0 0 0 0 0 0 0 0 0 0 0 0 0 0 0 0 0 0 0 0 0 0 0 0 0 0 0 0 0 0 0 0 0 0 0 0 0 0 0 0 0 0 0 0 0 0 0 0 0 0 0 0 0 0 0 0 0 0 0 0 0 0 0 0 0 0 0 0 0 0 0 0 0 0 0 0 0 0 0 0 0\n",
            "INFO:__main__:choice: 1\n",
            "INFO:__main__:tokens: [CLS] cancer is most often the result of natural selection [SEP]\n",
            "INFO:__main__:input_ids: 101 4456 2003 2087 2411 1996 2765 1997 3019 4989 102 0 0 0 0 0 0 0 0 0 0 0 0 0 0 0 0 0 0 0 0 0 0 0 0 0 0 0 0 0 0 0 0 0 0 0 0 0 0 0 0 0 0 0 0 0 0 0 0 0 0 0 0 0 0 0 0 0 0 0 0 0 0 0 0 0 0 0 0 0 0 0 0 0 0 0 0 0 0 0 0 0 0 0 0 0 0 0 0 0\n",
            "INFO:__main__:input_mask: 1 1 1 1 1 1 1 1 1 1 1 0 0 0 0 0 0 0 0 0 0 0 0 0 0 0 0 0 0 0 0 0 0 0 0 0 0 0 0 0 0 0 0 0 0 0 0 0 0 0 0 0 0 0 0 0 0 0 0 0 0 0 0 0 0 0 0 0 0 0 0 0 0 0 0 0 0 0 0 0 0 0 0 0 0 0 0 0 0 0 0 0 0 0 0 0 0 0 0 0\n",
            "INFO:__main__:segment_ids: 1 1 1 1 1 1 1 1 1 1 1 0 0 0 0 0 0 0 0 0 0 0 0 0 0 0 0 0 0 0 0 0 0 0 0 0 0 0 0 0 0 0 0 0 0 0 0 0 0 0 0 0 0 0 0 0 0 0 0 0 0 0 0 0 0 0 0 0 0 0 0 0 0 0 0 0 0 0 0 0 0 0 0 0 0 0 0 0 0 0 0 0 0 0 0 0 0 0 0 0\n",
            "INFO:__main__:choice: 2\n",
            "INFO:__main__:tokens: [CLS] cancer is most often the result of bacterial infection [SEP]\n",
            "INFO:__main__:input_ids: 101 4456 2003 2087 2411 1996 2765 1997 17341 8985 102 0 0 0 0 0 0 0 0 0 0 0 0 0 0 0 0 0 0 0 0 0 0 0 0 0 0 0 0 0 0 0 0 0 0 0 0 0 0 0 0 0 0 0 0 0 0 0 0 0 0 0 0 0 0 0 0 0 0 0 0 0 0 0 0 0 0 0 0 0 0 0 0 0 0 0 0 0 0 0 0 0 0 0 0 0 0 0 0 0\n",
            "INFO:__main__:input_mask: 1 1 1 1 1 1 1 1 1 1 1 0 0 0 0 0 0 0 0 0 0 0 0 0 0 0 0 0 0 0 0 0 0 0 0 0 0 0 0 0 0 0 0 0 0 0 0 0 0 0 0 0 0 0 0 0 0 0 0 0 0 0 0 0 0 0 0 0 0 0 0 0 0 0 0 0 0 0 0 0 0 0 0 0 0 0 0 0 0 0 0 0 0 0 0 0 0 0 0 0\n",
            "INFO:__main__:segment_ids: 1 1 1 1 1 1 1 1 1 1 1 0 0 0 0 0 0 0 0 0 0 0 0 0 0 0 0 0 0 0 0 0 0 0 0 0 0 0 0 0 0 0 0 0 0 0 0 0 0 0 0 0 0 0 0 0 0 0 0 0 0 0 0 0 0 0 0 0 0 0 0 0 0 0 0 0 0 0 0 0 0 0 0 0 0 0 0 0 0 0 0 0 0 0 0 0 0 0 0 0\n",
            "INFO:__main__:choice: 3\n",
            "INFO:__main__:tokens: [CLS] cancer is most often the result of biological adaptation [SEP]\n",
            "INFO:__main__:input_ids: 101 4456 2003 2087 2411 1996 2765 1997 6897 6789 102 0 0 0 0 0 0 0 0 0 0 0 0 0 0 0 0 0 0 0 0 0 0 0 0 0 0 0 0 0 0 0 0 0 0 0 0 0 0 0 0 0 0 0 0 0 0 0 0 0 0 0 0 0 0 0 0 0 0 0 0 0 0 0 0 0 0 0 0 0 0 0 0 0 0 0 0 0 0 0 0 0 0 0 0 0 0 0 0 0\n",
            "INFO:__main__:input_mask: 1 1 1 1 1 1 1 1 1 1 1 0 0 0 0 0 0 0 0 0 0 0 0 0 0 0 0 0 0 0 0 0 0 0 0 0 0 0 0 0 0 0 0 0 0 0 0 0 0 0 0 0 0 0 0 0 0 0 0 0 0 0 0 0 0 0 0 0 0 0 0 0 0 0 0 0 0 0 0 0 0 0 0 0 0 0 0 0 0 0 0 0 0 0 0 0 0 0 0 0\n",
            "INFO:__main__:segment_ids: 1 1 1 1 1 1 1 1 1 1 1 0 0 0 0 0 0 0 0 0 0 0 0 0 0 0 0 0 0 0 0 0 0 0 0 0 0 0 0 0 0 0 0 0 0 0 0 0 0 0 0 0 0 0 0 0 0 0 0 0 0 0 0 0 0 0 0 0 0 0 0 0 0 0 0 0 0 0 0 0 0 0 0 0 0 0 0 0 0 0 0 0 0 0 0 0 0 0 0 0\n",
            "INFO:__main__:label: 0\n",
            "INFO:__main__:*** Example ***\n",
            "INFO:__main__:question_id: NYSEDREGENTS_2015_8_20\n",
            "INFO:__main__:choice: 0\n",
            "INFO:__main__:tokens: [CLS] all of the different organisms interacting in a pond make up a community [SEP]\n",
            "INFO:__main__:input_ids: 101 2035 1997 1996 2367 11767 21935 1999 1037 8644 2191 2039 1037 2451 102 0 0 0 0 0 0 0 0 0 0 0 0 0 0 0 0 0 0 0 0 0 0 0 0 0 0 0 0 0 0 0 0 0 0 0 0 0 0 0 0 0 0 0 0 0 0 0 0 0 0 0 0 0 0 0 0 0 0 0 0 0 0 0 0 0 0 0 0 0 0 0 0 0 0 0 0 0 0 0 0 0 0 0 0 0\n",
            "INFO:__main__:input_mask: 1 1 1 1 1 1 1 1 1 1 1 1 1 1 1 0 0 0 0 0 0 0 0 0 0 0 0 0 0 0 0 0 0 0 0 0 0 0 0 0 0 0 0 0 0 0 0 0 0 0 0 0 0 0 0 0 0 0 0 0 0 0 0 0 0 0 0 0 0 0 0 0 0 0 0 0 0 0 0 0 0 0 0 0 0 0 0 0 0 0 0 0 0 0 0 0 0 0 0 0\n",
            "INFO:__main__:segment_ids: 1 1 1 1 1 1 1 1 1 1 1 1 1 1 1 0 0 0 0 0 0 0 0 0 0 0 0 0 0 0 0 0 0 0 0 0 0 0 0 0 0 0 0 0 0 0 0 0 0 0 0 0 0 0 0 0 0 0 0 0 0 0 0 0 0 0 0 0 0 0 0 0 0 0 0 0 0 0 0 0 0 0 0 0 0 0 0 0 0 0 0 0 0 0 0 0 0 0 0 0\n",
            "INFO:__main__:choice: 1\n",
            "INFO:__main__:tokens: [CLS] all of the different organisms interacting in a pond make up a population [SEP]\n",
            "INFO:__main__:input_ids: 101 2035 1997 1996 2367 11767 21935 1999 1037 8644 2191 2039 1037 2313 102 0 0 0 0 0 0 0 0 0 0 0 0 0 0 0 0 0 0 0 0 0 0 0 0 0 0 0 0 0 0 0 0 0 0 0 0 0 0 0 0 0 0 0 0 0 0 0 0 0 0 0 0 0 0 0 0 0 0 0 0 0 0 0 0 0 0 0 0 0 0 0 0 0 0 0 0 0 0 0 0 0 0 0 0 0\n",
            "INFO:__main__:input_mask: 1 1 1 1 1 1 1 1 1 1 1 1 1 1 1 0 0 0 0 0 0 0 0 0 0 0 0 0 0 0 0 0 0 0 0 0 0 0 0 0 0 0 0 0 0 0 0 0 0 0 0 0 0 0 0 0 0 0 0 0 0 0 0 0 0 0 0 0 0 0 0 0 0 0 0 0 0 0 0 0 0 0 0 0 0 0 0 0 0 0 0 0 0 0 0 0 0 0 0 0\n",
            "INFO:__main__:segment_ids: 1 1 1 1 1 1 1 1 1 1 1 1 1 1 1 0 0 0 0 0 0 0 0 0 0 0 0 0 0 0 0 0 0 0 0 0 0 0 0 0 0 0 0 0 0 0 0 0 0 0 0 0 0 0 0 0 0 0 0 0 0 0 0 0 0 0 0 0 0 0 0 0 0 0 0 0 0 0 0 0 0 0 0 0 0 0 0 0 0 0 0 0 0 0 0 0 0 0 0 0\n",
            "INFO:__main__:choice: 2\n",
            "INFO:__main__:tokens: [CLS] all of the different organisms interacting in a pond make up the water cycle [SEP]\n",
            "INFO:__main__:input_ids: 101 2035 1997 1996 2367 11767 21935 1999 1037 8644 2191 2039 1996 2300 5402 102 0 0 0 0 0 0 0 0 0 0 0 0 0 0 0 0 0 0 0 0 0 0 0 0 0 0 0 0 0 0 0 0 0 0 0 0 0 0 0 0 0 0 0 0 0 0 0 0 0 0 0 0 0 0 0 0 0 0 0 0 0 0 0 0 0 0 0 0 0 0 0 0 0 0 0 0 0 0 0 0 0 0 0 0\n",
            "INFO:__main__:input_mask: 1 1 1 1 1 1 1 1 1 1 1 1 1 1 1 1 0 0 0 0 0 0 0 0 0 0 0 0 0 0 0 0 0 0 0 0 0 0 0 0 0 0 0 0 0 0 0 0 0 0 0 0 0 0 0 0 0 0 0 0 0 0 0 0 0 0 0 0 0 0 0 0 0 0 0 0 0 0 0 0 0 0 0 0 0 0 0 0 0 0 0 0 0 0 0 0 0 0 0 0\n",
            "INFO:__main__:segment_ids: 1 1 1 1 1 1 1 1 1 1 1 1 1 1 1 1 0 0 0 0 0 0 0 0 0 0 0 0 0 0 0 0 0 0 0 0 0 0 0 0 0 0 0 0 0 0 0 0 0 0 0 0 0 0 0 0 0 0 0 0 0 0 0 0 0 0 0 0 0 0 0 0 0 0 0 0 0 0 0 0 0 0 0 0 0 0 0 0 0 0 0 0 0 0 0 0 0 0 0 0\n",
            "INFO:__main__:choice: 3\n",
            "INFO:__main__:tokens: [CLS] all of the different organisms interacting in a pond make up the habitat [SEP]\n",
            "INFO:__main__:input_ids: 101 2035 1997 1996 2367 11767 21935 1999 1037 8644 2191 2039 1996 6552 102 0 0 0 0 0 0 0 0 0 0 0 0 0 0 0 0 0 0 0 0 0 0 0 0 0 0 0 0 0 0 0 0 0 0 0 0 0 0 0 0 0 0 0 0 0 0 0 0 0 0 0 0 0 0 0 0 0 0 0 0 0 0 0 0 0 0 0 0 0 0 0 0 0 0 0 0 0 0 0 0 0 0 0 0 0\n",
            "INFO:__main__:input_mask: 1 1 1 1 1 1 1 1 1 1 1 1 1 1 1 0 0 0 0 0 0 0 0 0 0 0 0 0 0 0 0 0 0 0 0 0 0 0 0 0 0 0 0 0 0 0 0 0 0 0 0 0 0 0 0 0 0 0 0 0 0 0 0 0 0 0 0 0 0 0 0 0 0 0 0 0 0 0 0 0 0 0 0 0 0 0 0 0 0 0 0 0 0 0 0 0 0 0 0 0\n",
            "INFO:__main__:segment_ids: 1 1 1 1 1 1 1 1 1 1 1 1 1 1 1 0 0 0 0 0 0 0 0 0 0 0 0 0 0 0 0 0 0 0 0 0 0 0 0 0 0 0 0 0 0 0 0 0 0 0 0 0 0 0 0 0 0 0 0 0 0 0 0 0 0 0 0 0 0 0 0 0 0 0 0 0 0 0 0 0 0 0 0 0 0 0 0 0 0 0 0 0 0 0 0 0 0 0 0 0\n",
            "INFO:__main__:label: 0\n",
            "INFO:__main__:*** Example ***\n",
            "INFO:__main__:question_id: NYSEDREGENTS_2010_8_9\n",
            "INFO:__main__:choice: 0\n",
            "INFO:__main__:tokens: [CLS] what model is used to show the pattern of traits that are passed from one generation to the next in a family ? pe ##di ##gree chart [SEP]\n",
            "INFO:__main__:input_ids: 101 2054 2944 2003 2109 2000 2265 1996 5418 1997 12955 2008 2024 2979 2013 2028 4245 2000 1996 2279 1999 1037 2155 1029 21877 4305 28637 3673 102 0 0 0 0 0 0 0 0 0 0 0 0 0 0 0 0 0 0 0 0 0 0 0 0 0 0 0 0 0 0 0 0 0 0 0 0 0 0 0 0 0 0 0 0 0 0 0 0 0 0 0 0 0 0 0 0 0 0 0 0 0 0 0 0 0 0 0 0 0 0 0\n",
            "INFO:__main__:input_mask: 1 1 1 1 1 1 1 1 1 1 1 1 1 1 1 1 1 1 1 1 1 1 1 1 1 1 1 1 1 0 0 0 0 0 0 0 0 0 0 0 0 0 0 0 0 0 0 0 0 0 0 0 0 0 0 0 0 0 0 0 0 0 0 0 0 0 0 0 0 0 0 0 0 0 0 0 0 0 0 0 0 0 0 0 0 0 0 0 0 0 0 0 0 0 0 0 0 0 0 0\n",
            "INFO:__main__:segment_ids: 1 1 1 1 1 1 1 1 1 1 1 1 1 1 1 1 1 1 1 1 1 1 1 1 1 1 1 1 1 0 0 0 0 0 0 0 0 0 0 0 0 0 0 0 0 0 0 0 0 0 0 0 0 0 0 0 0 0 0 0 0 0 0 0 0 0 0 0 0 0 0 0 0 0 0 0 0 0 0 0 0 0 0 0 0 0 0 0 0 0 0 0 0 0 0 0 0 0 0 0\n",
            "INFO:__main__:choice: 1\n",
            "INFO:__main__:tokens: [CLS] what model is used to show the pattern of traits that are passed from one generation to the next in a family ? di ##cho ##tom ##ous key [SEP]\n",
            "INFO:__main__:input_ids: 101 2054 2944 2003 2109 2000 2265 1996 5418 1997 12955 2008 2024 2979 2013 2028 4245 2000 1996 2279 1999 1037 2155 1029 4487 9905 20389 3560 3145 102 0 0 0 0 0 0 0 0 0 0 0 0 0 0 0 0 0 0 0 0 0 0 0 0 0 0 0 0 0 0 0 0 0 0 0 0 0 0 0 0 0 0 0 0 0 0 0 0 0 0 0 0 0 0 0 0 0 0 0 0 0 0 0 0 0 0 0 0 0 0\n",
            "INFO:__main__:input_mask: 1 1 1 1 1 1 1 1 1 1 1 1 1 1 1 1 1 1 1 1 1 1 1 1 1 1 1 1 1 1 0 0 0 0 0 0 0 0 0 0 0 0 0 0 0 0 0 0 0 0 0 0 0 0 0 0 0 0 0 0 0 0 0 0 0 0 0 0 0 0 0 0 0 0 0 0 0 0 0 0 0 0 0 0 0 0 0 0 0 0 0 0 0 0 0 0 0 0 0 0\n",
            "INFO:__main__:segment_ids: 1 1 1 1 1 1 1 1 1 1 1 1 1 1 1 1 1 1 1 1 1 1 1 1 1 1 1 1 1 1 0 0 0 0 0 0 0 0 0 0 0 0 0 0 0 0 0 0 0 0 0 0 0 0 0 0 0 0 0 0 0 0 0 0 0 0 0 0 0 0 0 0 0 0 0 0 0 0 0 0 0 0 0 0 0 0 0 0 0 0 0 0 0 0 0 0 0 0 0 0\n",
            "INFO:__main__:choice: 2\n",
            "INFO:__main__:tokens: [CLS] what model is used to show the pattern of traits that are passed from one generation to the next in a family ? energy pyramid [SEP]\n",
            "INFO:__main__:input_ids: 101 2054 2944 2003 2109 2000 2265 1996 5418 1997 12955 2008 2024 2979 2013 2028 4245 2000 1996 2279 1999 1037 2155 1029 2943 11918 102 0 0 0 0 0 0 0 0 0 0 0 0 0 0 0 0 0 0 0 0 0 0 0 0 0 0 0 0 0 0 0 0 0 0 0 0 0 0 0 0 0 0 0 0 0 0 0 0 0 0 0 0 0 0 0 0 0 0 0 0 0 0 0 0 0 0 0 0 0 0 0 0 0\n",
            "INFO:__main__:input_mask: 1 1 1 1 1 1 1 1 1 1 1 1 1 1 1 1 1 1 1 1 1 1 1 1 1 1 1 0 0 0 0 0 0 0 0 0 0 0 0 0 0 0 0 0 0 0 0 0 0 0 0 0 0 0 0 0 0 0 0 0 0 0 0 0 0 0 0 0 0 0 0 0 0 0 0 0 0 0 0 0 0 0 0 0 0 0 0 0 0 0 0 0 0 0 0 0 0 0 0 0\n",
            "INFO:__main__:segment_ids: 1 1 1 1 1 1 1 1 1 1 1 1 1 1 1 1 1 1 1 1 1 1 1 1 1 1 1 0 0 0 0 0 0 0 0 0 0 0 0 0 0 0 0 0 0 0 0 0 0 0 0 0 0 0 0 0 0 0 0 0 0 0 0 0 0 0 0 0 0 0 0 0 0 0 0 0 0 0 0 0 0 0 0 0 0 0 0 0 0 0 0 0 0 0 0 0 0 0 0 0\n",
            "INFO:__main__:choice: 3\n",
            "INFO:__main__:tokens: [CLS] what model is used to show the pattern of traits that are passed from one generation to the next in a family ? line graph [SEP]\n",
            "INFO:__main__:input_ids: 101 2054 2944 2003 2109 2000 2265 1996 5418 1997 12955 2008 2024 2979 2013 2028 4245 2000 1996 2279 1999 1037 2155 1029 2240 10629 102 0 0 0 0 0 0 0 0 0 0 0 0 0 0 0 0 0 0 0 0 0 0 0 0 0 0 0 0 0 0 0 0 0 0 0 0 0 0 0 0 0 0 0 0 0 0 0 0 0 0 0 0 0 0 0 0 0 0 0 0 0 0 0 0 0 0 0 0 0 0 0 0 0\n",
            "INFO:__main__:input_mask: 1 1 1 1 1 1 1 1 1 1 1 1 1 1 1 1 1 1 1 1 1 1 1 1 1 1 1 0 0 0 0 0 0 0 0 0 0 0 0 0 0 0 0 0 0 0 0 0 0 0 0 0 0 0 0 0 0 0 0 0 0 0 0 0 0 0 0 0 0 0 0 0 0 0 0 0 0 0 0 0 0 0 0 0 0 0 0 0 0 0 0 0 0 0 0 0 0 0 0 0\n",
            "INFO:__main__:segment_ids: 1 1 1 1 1 1 1 1 1 1 1 1 1 1 1 1 1 1 1 1 1 1 1 1 1 1 1 0 0 0 0 0 0 0 0 0 0 0 0 0 0 0 0 0 0 0 0 0 0 0 0 0 0 0 0 0 0 0 0 0 0 0 0 0 0 0 0 0 0 0 0 0 0 0 0 0 0 0 0 0 0 0 0 0 0 0 0 0 0 0 0 0 0 0 0 0 0 0 0 0\n",
            "INFO:__main__:label: 0\n"
          ],
          "name": "stderr"
        }
      ]
    },
    {
      "metadata": {
        "id": "wDeEOQUx9h0i",
        "colab_type": "code",
        "outputId": "19f919a3-098c-41bd-cf8f-f28cea35612b",
        "colab": {
          "base_uri": "https://localhost:8080/",
          "height": 1986
        }
      },
      "cell_type": "code",
      "source": [
        "tokenizer = BertTokenizer.from_pretrained('bert-base-uncased')\n",
        "arc_instances = get_arc_instances(input_file=input_file)\n",
        "feats = convert_instances_to_features(arc_instances, tokenizer=tokenizer, max_seq_length=100)\n",
        "dataset = create_dataset(feats)"
      ],
      "execution_count": 81,
      "outputs": [
        {
          "output_type": "stream",
          "text": [
            "INFO:pytorch_pretrained_bert.tokenization:loading vocabulary file https://s3.amazonaws.com/models.huggingface.co/bert/bert-base-uncased-vocab.txt from cache at /root/.pytorch_pretrained_bert/26bc1ad6c0ac742e9b52263248f6d0f00068293b33709fae12320c0e35ccfbbb.542ce4285a40d23a559526243235df47c5f75c197f04f37d1a0c124c32c9a084\n",
            "INFO:__main__:*** Example ***\n",
            "INFO:__main__:question_id: Mercury_412775\n",
            "INFO:__main__:choice: 0\n",
            "INFO:__main__:tokens: [CLS] add an a ##que ##ous solution of ph = 2 . add 30 % na ##oh solution and adjust to ph 7 . c ) add an a ##que ##ous solution of ph 2 . label test tubes as follows : a - ph 2 , b - ph 3 , c - ph 5 , d - ph 7 , e - ph 8 , f - ph 9 , g - ph 12 , h [SEP] a solution with a ph of 2 can be increased to a ph above 7 by adding an acid . [SEP]\n",
            "INFO:__main__:input_ids: 101 5587 2019 1037 4226 3560 5576 1997 6887 1027 1016 1012 5587 2382 1003 6583 11631 5576 1998 14171 2000 6887 1021 1012 1039 1007 5587 2019 1037 4226 3560 5576 1997 6887 1016 1012 3830 3231 10868 2004 4076 1024 1037 1011 6887 1016 1010 1038 1011 6887 1017 1010 1039 1011 6887 1019 1010 1040 1011 6887 1021 1010 1041 1011 6887 1022 1010 1042 1011 6887 1023 1010 1043 1011 6887 2260 1010 1044 102 1037 5576 2007 1037 6887 1997 1016 2064 2022 3445 2000 1037 6887 2682 1021 2011 5815 2019 5648 1012 102\n",
            "INFO:__main__:input_mask: 1 1 1 1 1 1 1 1 1 1 1 1 1 1 1 1 1 1 1 1 1 1 1 1 1 1 1 1 1 1 1 1 1 1 1 1 1 1 1 1 1 1 1 1 1 1 1 1 1 1 1 1 1 1 1 1 1 1 1 1 1 1 1 1 1 1 1 1 1 1 1 1 1 1 1 1 1 1 1 1 1 1 1 1 1 1 1 1 1 1 1 1 1 1 1 1 1 1 1 1\n",
            "INFO:__main__:segment_ids: 0 0 0 0 0 0 0 0 0 0 0 0 0 0 0 0 0 0 0 0 0 0 0 0 0 0 0 0 0 0 0 0 0 0 0 0 0 0 0 0 0 0 0 0 0 0 0 0 0 0 0 0 0 0 0 0 0 0 0 0 0 0 0 0 0 0 0 0 0 0 0 0 0 0 0 0 0 0 0 1 1 1 1 1 1 1 1 1 1 1 1 1 1 1 1 1 1 1 1 1\n",
            "INFO:__main__:choice: 1\n",
            "INFO:__main__:tokens: [CLS] add an a ##que ##ous solution of ph = 2 . add 30 % na ##oh solution and adjust to ph 7 . c ) add an a ##que ##ous solution of ph 2 . label test tubes as follows : a - ph 2 , b - ph 3 , c - ph 5 , d - ph 7 , e - ph 8 , f - ph 9 , g - ph 12 , h - [SEP] a solution with a ph of 2 can be increased to a ph above 7 by adding water . [SEP]\n",
            "INFO:__main__:input_ids: 101 5587 2019 1037 4226 3560 5576 1997 6887 1027 1016 1012 5587 2382 1003 6583 11631 5576 1998 14171 2000 6887 1021 1012 1039 1007 5587 2019 1037 4226 3560 5576 1997 6887 1016 1012 3830 3231 10868 2004 4076 1024 1037 1011 6887 1016 1010 1038 1011 6887 1017 1010 1039 1011 6887 1019 1010 1040 1011 6887 1021 1010 1041 1011 6887 1022 1010 1042 1011 6887 1023 1010 1043 1011 6887 2260 1010 1044 1011 102 1037 5576 2007 1037 6887 1997 1016 2064 2022 3445 2000 1037 6887 2682 1021 2011 5815 2300 1012 102\n",
            "INFO:__main__:input_mask: 1 1 1 1 1 1 1 1 1 1 1 1 1 1 1 1 1 1 1 1 1 1 1 1 1 1 1 1 1 1 1 1 1 1 1 1 1 1 1 1 1 1 1 1 1 1 1 1 1 1 1 1 1 1 1 1 1 1 1 1 1 1 1 1 1 1 1 1 1 1 1 1 1 1 1 1 1 1 1 1 1 1 1 1 1 1 1 1 1 1 1 1 1 1 1 1 1 1 1 1\n",
            "INFO:__main__:segment_ids: 0 0 0 0 0 0 0 0 0 0 0 0 0 0 0 0 0 0 0 0 0 0 0 0 0 0 0 0 0 0 0 0 0 0 0 0 0 0 0 0 0 0 0 0 0 0 0 0 0 0 0 0 0 0 0 0 0 0 0 0 0 0 0 0 0 0 0 0 0 0 0 0 0 0 0 0 0 0 0 0 1 1 1 1 1 1 1 1 1 1 1 1 1 1 1 1 1 1 1 1\n",
            "INFO:__main__:choice: 2\n",
            "INFO:__main__:tokens: [CLS] add an a ##que ##ous solution of ph = 2 . add 30 % na ##oh solution and adjust to ph 7 . c ) add an a ##que ##ous solution of ph 2 . label test tubes as follows : a - ph 2 , b - ph 3 , c - ph 5 , d - ph 7 , e - ph 8 , f - ph 9 , g - ph 12 , h [SEP] a solution with a ph of 2 can be increased to a ph above 7 by adding a base . [SEP]\n",
            "INFO:__main__:input_ids: 101 5587 2019 1037 4226 3560 5576 1997 6887 1027 1016 1012 5587 2382 1003 6583 11631 5576 1998 14171 2000 6887 1021 1012 1039 1007 5587 2019 1037 4226 3560 5576 1997 6887 1016 1012 3830 3231 10868 2004 4076 1024 1037 1011 6887 1016 1010 1038 1011 6887 1017 1010 1039 1011 6887 1019 1010 1040 1011 6887 1021 1010 1041 1011 6887 1022 1010 1042 1011 6887 1023 1010 1043 1011 6887 2260 1010 1044 102 1037 5576 2007 1037 6887 1997 1016 2064 2022 3445 2000 1037 6887 2682 1021 2011 5815 1037 2918 1012 102\n",
            "INFO:__main__:input_mask: 1 1 1 1 1 1 1 1 1 1 1 1 1 1 1 1 1 1 1 1 1 1 1 1 1 1 1 1 1 1 1 1 1 1 1 1 1 1 1 1 1 1 1 1 1 1 1 1 1 1 1 1 1 1 1 1 1 1 1 1 1 1 1 1 1 1 1 1 1 1 1 1 1 1 1 1 1 1 1 1 1 1 1 1 1 1 1 1 1 1 1 1 1 1 1 1 1 1 1 1\n",
            "INFO:__main__:segment_ids: 0 0 0 0 0 0 0 0 0 0 0 0 0 0 0 0 0 0 0 0 0 0 0 0 0 0 0 0 0 0 0 0 0 0 0 0 0 0 0 0 0 0 0 0 0 0 0 0 0 0 0 0 0 0 0 0 0 0 0 0 0 0 0 0 0 0 0 0 0 0 0 0 0 0 0 0 0 0 0 1 1 1 1 1 1 1 1 1 1 1 1 1 1 1 1 1 1 1 1 1\n",
            "INFO:__main__:choice: 3\n",
            "INFO:__main__:tokens: [CLS] add an a ##que ##ous solution of ph = 2 . add 30 % na ##oh solution and adjust to ph 7 . c ) add an a ##que ##ous solution of ph 2 . label test tubes as follows : a - ph 2 , b - ph 3 , c - ph 5 , d - ph 7 , e - ph 8 , f - ph 9 , g - ph 12 , h - [SEP] a solution with a ph of 2 can be increased to a ph above 7 by adding hydrogen . [SEP]\n",
            "INFO:__main__:input_ids: 101 5587 2019 1037 4226 3560 5576 1997 6887 1027 1016 1012 5587 2382 1003 6583 11631 5576 1998 14171 2000 6887 1021 1012 1039 1007 5587 2019 1037 4226 3560 5576 1997 6887 1016 1012 3830 3231 10868 2004 4076 1024 1037 1011 6887 1016 1010 1038 1011 6887 1017 1010 1039 1011 6887 1019 1010 1040 1011 6887 1021 1010 1041 1011 6887 1022 1010 1042 1011 6887 1023 1010 1043 1011 6887 2260 1010 1044 1011 102 1037 5576 2007 1037 6887 1997 1016 2064 2022 3445 2000 1037 6887 2682 1021 2011 5815 9732 1012 102\n",
            "INFO:__main__:input_mask: 1 1 1 1 1 1 1 1 1 1 1 1 1 1 1 1 1 1 1 1 1 1 1 1 1 1 1 1 1 1 1 1 1 1 1 1 1 1 1 1 1 1 1 1 1 1 1 1 1 1 1 1 1 1 1 1 1 1 1 1 1 1 1 1 1 1 1 1 1 1 1 1 1 1 1 1 1 1 1 1 1 1 1 1 1 1 1 1 1 1 1 1 1 1 1 1 1 1 1 1\n",
            "INFO:__main__:segment_ids: 0 0 0 0 0 0 0 0 0 0 0 0 0 0 0 0 0 0 0 0 0 0 0 0 0 0 0 0 0 0 0 0 0 0 0 0 0 0 0 0 0 0 0 0 0 0 0 0 0 0 0 0 0 0 0 0 0 0 0 0 0 0 0 0 0 0 0 0 0 0 0 0 0 0 0 0 0 0 0 0 1 1 1 1 1 1 1 1 1 1 1 1 1 1 1 1 1 1 1 1\n",
            "INFO:__main__:label: 2\n",
            "INFO:__main__:*** Example ***\n",
            "INFO:__main__:question_id: Mercury_7221743\n",
            "INFO:__main__:choice: 0\n",
            "INFO:__main__:tokens: [CLS] and ( 2 ) rest ##ate its published rates into at least the following rate elements : electricity ; electrical connector including a physically non ##yi ##eld ##ing component for conducting electricity comprised at least in part of elemental carbon in the graph ##ite form . shall be conducted according to procedures that shall include at least the following elements : 14 . 1 . elements of a conduct remedy we anti ##ci ##pate that any conduct - oriented decree would contain at least [SEP] which of the following elements is the least electrically conduct ##ive ? sodium [SEP]\n",
            "INFO:__main__:input_ids: 101 1998 1006 1016 1007 2717 3686 2049 2405 6165 2046 2012 2560 1996 2206 3446 3787 1024 6451 1025 5992 19400 2164 1037 8186 2512 10139 14273 2075 6922 2005 9283 6451 11539 2012 2560 1999 2112 1997 19529 6351 1999 1996 10629 4221 2433 1012 4618 2022 4146 2429 2000 8853 2008 4618 2421 2012 2560 1996 2206 3787 1024 2403 1012 1015 1012 3787 1997 1037 6204 19519 2057 3424 6895 17585 2008 2151 6204 1011 8048 10037 2052 5383 2012 2560 102 2029 1997 1996 2206 3787 2003 1996 2560 29103 6204 3512 1029 13365 102\n",
            "INFO:__main__:input_mask: 1 1 1 1 1 1 1 1 1 1 1 1 1 1 1 1 1 1 1 1 1 1 1 1 1 1 1 1 1 1 1 1 1 1 1 1 1 1 1 1 1 1 1 1 1 1 1 1 1 1 1 1 1 1 1 1 1 1 1 1 1 1 1 1 1 1 1 1 1 1 1 1 1 1 1 1 1 1 1 1 1 1 1 1 1 1 1 1 1 1 1 1 1 1 1 1 1 1 1 1\n",
            "INFO:__main__:segment_ids: 0 0 0 0 0 0 0 0 0 0 0 0 0 0 0 0 0 0 0 0 0 0 0 0 0 0 0 0 0 0 0 0 0 0 0 0 0 0 0 0 0 0 0 0 0 0 0 0 0 0 0 0 0 0 0 0 0 0 0 0 0 0 0 0 0 0 0 0 0 0 0 0 0 0 0 0 0 0 0 0 0 0 0 0 0 0 1 1 1 1 1 1 1 1 1 1 1 1 1 1\n",
            "INFO:__main__:choice: 1\n",
            "INFO:__main__:tokens: [CLS] and ( 2 ) rest ##ate its published rates into at least the following rate elements : electricity ; electrical connector including a physically non ##yi ##eld ##ing component for conducting electricity comprised at least in part of elemental carbon in the graph ##ite form . shall be conducted according to procedures that shall include at least the following elements : 14 . 1 . elements of a conduct remedy we anti ##ci ##pate that any conduct - oriented decree would contain at [SEP] which of the following elements is the least electrically conduct ##ive ? tung ##sten [SEP]\n",
            "INFO:__main__:input_ids: 101 1998 1006 1016 1007 2717 3686 2049 2405 6165 2046 2012 2560 1996 2206 3446 3787 1024 6451 1025 5992 19400 2164 1037 8186 2512 10139 14273 2075 6922 2005 9283 6451 11539 2012 2560 1999 2112 1997 19529 6351 1999 1996 10629 4221 2433 1012 4618 2022 4146 2429 2000 8853 2008 4618 2421 2012 2560 1996 2206 3787 1024 2403 1012 1015 1012 3787 1997 1037 6204 19519 2057 3424 6895 17585 2008 2151 6204 1011 8048 10037 2052 5383 2012 102 2029 1997 1996 2206 3787 2003 1996 2560 29103 6204 3512 1029 27079 16173 102\n",
            "INFO:__main__:input_mask: 1 1 1 1 1 1 1 1 1 1 1 1 1 1 1 1 1 1 1 1 1 1 1 1 1 1 1 1 1 1 1 1 1 1 1 1 1 1 1 1 1 1 1 1 1 1 1 1 1 1 1 1 1 1 1 1 1 1 1 1 1 1 1 1 1 1 1 1 1 1 1 1 1 1 1 1 1 1 1 1 1 1 1 1 1 1 1 1 1 1 1 1 1 1 1 1 1 1 1 1\n",
            "INFO:__main__:segment_ids: 0 0 0 0 0 0 0 0 0 0 0 0 0 0 0 0 0 0 0 0 0 0 0 0 0 0 0 0 0 0 0 0 0 0 0 0 0 0 0 0 0 0 0 0 0 0 0 0 0 0 0 0 0 0 0 0 0 0 0 0 0 0 0 0 0 0 0 0 0 0 0 0 0 0 0 0 0 0 0 0 0 0 0 0 0 1 1 1 1 1 1 1 1 1 1 1 1 1 1 1\n",
            "INFO:__main__:choice: 2\n",
            "INFO:__main__:tokens: [CLS] and ( 2 ) rest ##ate its published rates into at least the following rate elements : electricity ; electrical connector including a physically non ##yi ##eld ##ing component for conducting electricity comprised at least in part of elemental carbon in the graph ##ite form . shall be conducted according to procedures that shall include at least the following elements : 14 . 1 . elements of a conduct remedy we anti ##ci ##pate that any conduct - oriented decree would contain at least [SEP] which of the following elements is the least electrically conduct ##ive ? zinc [SEP]\n",
            "INFO:__main__:input_ids: 101 1998 1006 1016 1007 2717 3686 2049 2405 6165 2046 2012 2560 1996 2206 3446 3787 1024 6451 1025 5992 19400 2164 1037 8186 2512 10139 14273 2075 6922 2005 9283 6451 11539 2012 2560 1999 2112 1997 19529 6351 1999 1996 10629 4221 2433 1012 4618 2022 4146 2429 2000 8853 2008 4618 2421 2012 2560 1996 2206 3787 1024 2403 1012 1015 1012 3787 1997 1037 6204 19519 2057 3424 6895 17585 2008 2151 6204 1011 8048 10037 2052 5383 2012 2560 102 2029 1997 1996 2206 3787 2003 1996 2560 29103 6204 3512 1029 15813 102\n",
            "INFO:__main__:input_mask: 1 1 1 1 1 1 1 1 1 1 1 1 1 1 1 1 1 1 1 1 1 1 1 1 1 1 1 1 1 1 1 1 1 1 1 1 1 1 1 1 1 1 1 1 1 1 1 1 1 1 1 1 1 1 1 1 1 1 1 1 1 1 1 1 1 1 1 1 1 1 1 1 1 1 1 1 1 1 1 1 1 1 1 1 1 1 1 1 1 1 1 1 1 1 1 1 1 1 1 1\n",
            "INFO:__main__:segment_ids: 0 0 0 0 0 0 0 0 0 0 0 0 0 0 0 0 0 0 0 0 0 0 0 0 0 0 0 0 0 0 0 0 0 0 0 0 0 0 0 0 0 0 0 0 0 0 0 0 0 0 0 0 0 0 0 0 0 0 0 0 0 0 0 0 0 0 0 0 0 0 0 0 0 0 0 0 0 0 0 0 0 0 0 0 0 0 1 1 1 1 1 1 1 1 1 1 1 1 1 1\n",
            "INFO:__main__:choice: 3\n",
            "INFO:__main__:tokens: [CLS] and ( 2 ) rest ##ate its published rates into at least the following rate elements : electricity ; electrical connector including a physically non ##yi ##eld ##ing component for conducting electricity comprised at least in part of elemental carbon in the graph ##ite form . shall be conducted according to procedures that shall include at least the following elements : 14 . 1 . elements of a conduct remedy we anti ##ci ##pate that any conduct - oriented decree would contain at [SEP] which of the following elements is the least electrically conduct ##ive ? ar ##gon [SEP]\n",
            "INFO:__main__:input_ids: 101 1998 1006 1016 1007 2717 3686 2049 2405 6165 2046 2012 2560 1996 2206 3446 3787 1024 6451 1025 5992 19400 2164 1037 8186 2512 10139 14273 2075 6922 2005 9283 6451 11539 2012 2560 1999 2112 1997 19529 6351 1999 1996 10629 4221 2433 1012 4618 2022 4146 2429 2000 8853 2008 4618 2421 2012 2560 1996 2206 3787 1024 2403 1012 1015 1012 3787 1997 1037 6204 19519 2057 3424 6895 17585 2008 2151 6204 1011 8048 10037 2052 5383 2012 102 2029 1997 1996 2206 3787 2003 1996 2560 29103 6204 3512 1029 12098 7446 102\n",
            "INFO:__main__:input_mask: 1 1 1 1 1 1 1 1 1 1 1 1 1 1 1 1 1 1 1 1 1 1 1 1 1 1 1 1 1 1 1 1 1 1 1 1 1 1 1 1 1 1 1 1 1 1 1 1 1 1 1 1 1 1 1 1 1 1 1 1 1 1 1 1 1 1 1 1 1 1 1 1 1 1 1 1 1 1 1 1 1 1 1 1 1 1 1 1 1 1 1 1 1 1 1 1 1 1 1 1\n",
            "INFO:__main__:segment_ids: 0 0 0 0 0 0 0 0 0 0 0 0 0 0 0 0 0 0 0 0 0 0 0 0 0 0 0 0 0 0 0 0 0 0 0 0 0 0 0 0 0 0 0 0 0 0 0 0 0 0 0 0 0 0 0 0 0 0 0 0 0 0 0 0 0 0 0 0 0 0 0 0 0 0 0 0 0 0 0 0 0 0 0 0 0 1 1 1 1 1 1 1 1 1 1 1 1 1 1 1\n",
            "INFO:__main__:label: 3\n",
            "INFO:__main__:*** Example ***\n",
            "INFO:__main__:question_id: NCEOGA_2013_8_59\n",
            "INFO:__main__:choice: 0\n",
            "INFO:__main__:tokens: [CLS] to provide your body with energy and nutrients , eat a variety of foods in moderate amounts . a unit of measure of the amount of fuel or energy a food provides to the body . when you reduce the amount of cal ##ories from food consumption drastically in a short amount of time , your body will automatically slow down its metabolic rate in order to conserve energy for survival . food provides the body with energy and heat [SEP] which food provides the most energy for the body in the shortest amount of time ? potato [SEP]\n",
            "INFO:__main__:input_ids: 101 2000 3073 2115 2303 2007 2943 1998 20435 1010 4521 1037 3528 1997 9440 1999 8777 8310 1012 1037 3131 1997 5468 1997 1996 3815 1997 4762 2030 2943 1037 2833 3640 2000 1996 2303 1012 2043 2017 5547 1996 3815 1997 10250 18909 2013 2833 8381 21040 1999 1037 2460 3815 1997 2051 1010 2115 2303 2097 8073 4030 2091 2049 21453 3446 1999 2344 2000 27749 2943 2005 7691 1012 2833 3640 1996 2303 2007 2943 1998 3684 102 2029 2833 3640 1996 2087 2943 2005 1996 2303 1999 1996 20047 3815 1997 2051 1029 14557 102\n",
            "INFO:__main__:input_mask: 1 1 1 1 1 1 1 1 1 1 1 1 1 1 1 1 1 1 1 1 1 1 1 1 1 1 1 1 1 1 1 1 1 1 1 1 1 1 1 1 1 1 1 1 1 1 1 1 1 1 1 1 1 1 1 1 1 1 1 1 1 1 1 1 1 1 1 1 1 1 1 1 1 1 1 1 1 1 1 1 1 1 1 1 1 1 1 1 1 1 1 1 1 1 1 1 1 1 1 1\n",
            "INFO:__main__:segment_ids: 0 0 0 0 0 0 0 0 0 0 0 0 0 0 0 0 0 0 0 0 0 0 0 0 0 0 0 0 0 0 0 0 0 0 0 0 0 0 0 0 0 0 0 0 0 0 0 0 0 0 0 0 0 0 0 0 0 0 0 0 0 0 0 0 0 0 0 0 0 0 0 0 0 0 0 0 0 0 0 0 0 0 1 1 1 1 1 1 1 1 1 1 1 1 1 1 1 1 1 1\n",
            "INFO:__main__:choice: 1\n",
            "INFO:__main__:tokens: [CLS] to provide your body with energy and nutrients , eat a variety of foods in moderate amounts . a unit of measure of the amount of fuel or energy a food provides to the body . when you reduce the amount of cal ##ories from food consumption drastically in a short amount of time , your body will automatically slow down its metabolic rate in order to conserve energy for survival . food provides the body with energy and heat [SEP] which food provides the most energy for the body in the shortest amount of time ? meat [SEP]\n",
            "INFO:__main__:input_ids: 101 2000 3073 2115 2303 2007 2943 1998 20435 1010 4521 1037 3528 1997 9440 1999 8777 8310 1012 1037 3131 1997 5468 1997 1996 3815 1997 4762 2030 2943 1037 2833 3640 2000 1996 2303 1012 2043 2017 5547 1996 3815 1997 10250 18909 2013 2833 8381 21040 1999 1037 2460 3815 1997 2051 1010 2115 2303 2097 8073 4030 2091 2049 21453 3446 1999 2344 2000 27749 2943 2005 7691 1012 2833 3640 1996 2303 2007 2943 1998 3684 102 2029 2833 3640 1996 2087 2943 2005 1996 2303 1999 1996 20047 3815 1997 2051 1029 6240 102\n",
            "INFO:__main__:input_mask: 1 1 1 1 1 1 1 1 1 1 1 1 1 1 1 1 1 1 1 1 1 1 1 1 1 1 1 1 1 1 1 1 1 1 1 1 1 1 1 1 1 1 1 1 1 1 1 1 1 1 1 1 1 1 1 1 1 1 1 1 1 1 1 1 1 1 1 1 1 1 1 1 1 1 1 1 1 1 1 1 1 1 1 1 1 1 1 1 1 1 1 1 1 1 1 1 1 1 1 1\n",
            "INFO:__main__:segment_ids: 0 0 0 0 0 0 0 0 0 0 0 0 0 0 0 0 0 0 0 0 0 0 0 0 0 0 0 0 0 0 0 0 0 0 0 0 0 0 0 0 0 0 0 0 0 0 0 0 0 0 0 0 0 0 0 0 0 0 0 0 0 0 0 0 0 0 0 0 0 0 0 0 0 0 0 0 0 0 0 0 0 0 1 1 1 1 1 1 1 1 1 1 1 1 1 1 1 1 1 1\n",
            "INFO:__main__:choice: 2\n",
            "INFO:__main__:tokens: [CLS] to provide your body with energy and nutrients , eat a variety of foods in moderate amounts . a unit of measure of the amount of fuel or energy a food provides to the body . when you reduce the amount of cal ##ories from food consumption drastically in a short amount of time , your body will automatically slow down its metabolic rate in order to conserve energy for survival . food provides the body with energy and heat [SEP] which food provides the most energy for the body in the shortest amount of time ? milk [SEP]\n",
            "INFO:__main__:input_ids: 101 2000 3073 2115 2303 2007 2943 1998 20435 1010 4521 1037 3528 1997 9440 1999 8777 8310 1012 1037 3131 1997 5468 1997 1996 3815 1997 4762 2030 2943 1037 2833 3640 2000 1996 2303 1012 2043 2017 5547 1996 3815 1997 10250 18909 2013 2833 8381 21040 1999 1037 2460 3815 1997 2051 1010 2115 2303 2097 8073 4030 2091 2049 21453 3446 1999 2344 2000 27749 2943 2005 7691 1012 2833 3640 1996 2303 2007 2943 1998 3684 102 2029 2833 3640 1996 2087 2943 2005 1996 2303 1999 1996 20047 3815 1997 2051 1029 6501 102\n",
            "INFO:__main__:input_mask: 1 1 1 1 1 1 1 1 1 1 1 1 1 1 1 1 1 1 1 1 1 1 1 1 1 1 1 1 1 1 1 1 1 1 1 1 1 1 1 1 1 1 1 1 1 1 1 1 1 1 1 1 1 1 1 1 1 1 1 1 1 1 1 1 1 1 1 1 1 1 1 1 1 1 1 1 1 1 1 1 1 1 1 1 1 1 1 1 1 1 1 1 1 1 1 1 1 1 1 1\n",
            "INFO:__main__:segment_ids: 0 0 0 0 0 0 0 0 0 0 0 0 0 0 0 0 0 0 0 0 0 0 0 0 0 0 0 0 0 0 0 0 0 0 0 0 0 0 0 0 0 0 0 0 0 0 0 0 0 0 0 0 0 0 0 0 0 0 0 0 0 0 0 0 0 0 0 0 0 0 0 0 0 0 0 0 0 0 0 0 0 0 1 1 1 1 1 1 1 1 1 1 1 1 1 1 1 1 1 1\n",
            "INFO:__main__:choice: 3\n",
            "INFO:__main__:tokens: [CLS] to provide your body with energy and nutrients , eat a variety of foods in moderate amounts . a unit of measure of the amount of fuel or energy a food provides to the body . when you reduce the amount of cal ##ories from food consumption drastically in a short amount of time , your body will automatically slow down its metabolic rate in order to conserve energy for survival . food provides the body with energy and heat [SEP] which food provides the most energy for the body in the shortest amount of time ? fruit [SEP]\n",
            "INFO:__main__:input_ids: 101 2000 3073 2115 2303 2007 2943 1998 20435 1010 4521 1037 3528 1997 9440 1999 8777 8310 1012 1037 3131 1997 5468 1997 1996 3815 1997 4762 2030 2943 1037 2833 3640 2000 1996 2303 1012 2043 2017 5547 1996 3815 1997 10250 18909 2013 2833 8381 21040 1999 1037 2460 3815 1997 2051 1010 2115 2303 2097 8073 4030 2091 2049 21453 3446 1999 2344 2000 27749 2943 2005 7691 1012 2833 3640 1996 2303 2007 2943 1998 3684 102 2029 2833 3640 1996 2087 2943 2005 1996 2303 1999 1996 20047 3815 1997 2051 1029 5909 102\n",
            "INFO:__main__:input_mask: 1 1 1 1 1 1 1 1 1 1 1 1 1 1 1 1 1 1 1 1 1 1 1 1 1 1 1 1 1 1 1 1 1 1 1 1 1 1 1 1 1 1 1 1 1 1 1 1 1 1 1 1 1 1 1 1 1 1 1 1 1 1 1 1 1 1 1 1 1 1 1 1 1 1 1 1 1 1 1 1 1 1 1 1 1 1 1 1 1 1 1 1 1 1 1 1 1 1 1 1\n",
            "INFO:__main__:segment_ids: 0 0 0 0 0 0 0 0 0 0 0 0 0 0 0 0 0 0 0 0 0 0 0 0 0 0 0 0 0 0 0 0 0 0 0 0 0 0 0 0 0 0 0 0 0 0 0 0 0 0 0 0 0 0 0 0 0 0 0 0 0 0 0 0 0 0 0 0 0 0 0 0 0 0 0 0 0 0 0 0 0 0 1 1 1 1 1 1 1 1 1 1 1 1 1 1 1 1 1 1\n",
            "INFO:__main__:label: 3\n",
            "INFO:__main__:*** Example ***\n",
            "INFO:__main__:question_id: Mercury_7084210\n",
            "INFO:__main__:choice: 0\n",
            "INFO:__main__:tokens: [CLS] te ##m is used mainly for organic research , like examining a slice of a human lung . accurate information , provided through field and laboratory research of marine life with the regard to toxin ##s and chemicals , identifies possible hazardous health situations for humans and marine life . the average organism size was 31 % higher within marine national parks ; [SEP] a researcher examines a marine organism that is the size of an average human hand . without more information , which statement about the organism is most likely accurate ? it is mobile . [SEP]\n",
            "INFO:__main__:input_ids: 101 8915 2213 2003 2109 3701 2005 7554 2470 1010 2066 12843 1037 14704 1997 1037 2529 11192 1012 8321 2592 1010 3024 2083 2492 1998 5911 2470 1997 3884 2166 2007 1996 7634 2000 29090 2015 1998 12141 1010 14847 2825 17760 2740 8146 2005 4286 1998 3884 2166 1012 1996 2779 15923 2946 2001 2861 1003 3020 2306 3884 2120 6328 1025 102 1037 10753 20798 1037 3884 15923 2008 2003 1996 2946 1997 2019 2779 2529 2192 1012 2302 2062 2592 1010 2029 4861 2055 1996 15923 2003 2087 3497 8321 1029 2009 2003 4684 1012 102\n",
            "INFO:__main__:input_mask: 1 1 1 1 1 1 1 1 1 1 1 1 1 1 1 1 1 1 1 1 1 1 1 1 1 1 1 1 1 1 1 1 1 1 1 1 1 1 1 1 1 1 1 1 1 1 1 1 1 1 1 1 1 1 1 1 1 1 1 1 1 1 1 1 1 1 1 1 1 1 1 1 1 1 1 1 1 1 1 1 1 1 1 1 1 1 1 1 1 1 1 1 1 1 1 1 1 1 1 1\n",
            "INFO:__main__:segment_ids: 0 0 0 0 0 0 0 0 0 0 0 0 0 0 0 0 0 0 0 0 0 0 0 0 0 0 0 0 0 0 0 0 0 0 0 0 0 0 0 0 0 0 0 0 0 0 0 0 0 0 0 0 0 0 0 0 0 0 0 0 0 0 0 0 0 1 1 1 1 1 1 1 1 1 1 1 1 1 1 1 1 1 1 1 1 1 1 1 1 1 1 1 1 1 1 1 1 1 1 1\n",
            "INFO:__main__:choice: 1\n",
            "INFO:__main__:tokens: [CLS] te ##m is used mainly for organic research , like examining a slice of a human lung . accurate information , provided through field and laboratory research of marine life with the regard to toxin ##s and chemicals , identifies possible hazardous health situations for humans and marine life . the average organism size was 31 % higher within marine national parks [SEP] a researcher examines a marine organism that is the size of an average human hand . without more information , which statement about the organism is most likely accurate ? it has organ systems . [SEP]\n",
            "INFO:__main__:input_ids: 101 8915 2213 2003 2109 3701 2005 7554 2470 1010 2066 12843 1037 14704 1997 1037 2529 11192 1012 8321 2592 1010 3024 2083 2492 1998 5911 2470 1997 3884 2166 2007 1996 7634 2000 29090 2015 1998 12141 1010 14847 2825 17760 2740 8146 2005 4286 1998 3884 2166 1012 1996 2779 15923 2946 2001 2861 1003 3020 2306 3884 2120 6328 102 1037 10753 20798 1037 3884 15923 2008 2003 1996 2946 1997 2019 2779 2529 2192 1012 2302 2062 2592 1010 2029 4861 2055 1996 15923 2003 2087 3497 8321 1029 2009 2038 5812 3001 1012 102\n",
            "INFO:__main__:input_mask: 1 1 1 1 1 1 1 1 1 1 1 1 1 1 1 1 1 1 1 1 1 1 1 1 1 1 1 1 1 1 1 1 1 1 1 1 1 1 1 1 1 1 1 1 1 1 1 1 1 1 1 1 1 1 1 1 1 1 1 1 1 1 1 1 1 1 1 1 1 1 1 1 1 1 1 1 1 1 1 1 1 1 1 1 1 1 1 1 1 1 1 1 1 1 1 1 1 1 1 1\n",
            "INFO:__main__:segment_ids: 0 0 0 0 0 0 0 0 0 0 0 0 0 0 0 0 0 0 0 0 0 0 0 0 0 0 0 0 0 0 0 0 0 0 0 0 0 0 0 0 0 0 0 0 0 0 0 0 0 0 0 0 0 0 0 0 0 0 0 0 0 0 0 0 1 1 1 1 1 1 1 1 1 1 1 1 1 1 1 1 1 1 1 1 1 1 1 1 1 1 1 1 1 1 1 1 1 1 1 1\n",
            "INFO:__main__:choice: 2\n",
            "INFO:__main__:tokens: [CLS] te ##m is used mainly for organic research , like examining a slice of a human lung . accurate information , provided through field and laboratory research of marine life with the regard to toxin ##s and chemicals , identifies possible hazardous health situations for humans and marine life . the average organism size was 31 % higher within marine [SEP] a researcher examines a marine organism that is the size of an average human hand . without more information , which statement about the organism is most likely accurate ? it is made of many cells . [SEP]\n",
            "INFO:__main__:input_ids: 101 8915 2213 2003 2109 3701 2005 7554 2470 1010 2066 12843 1037 14704 1997 1037 2529 11192 1012 8321 2592 1010 3024 2083 2492 1998 5911 2470 1997 3884 2166 2007 1996 7634 2000 29090 2015 1998 12141 1010 14847 2825 17760 2740 8146 2005 4286 1998 3884 2166 1012 1996 2779 15923 2946 2001 2861 1003 3020 2306 3884 102 1037 10753 20798 1037 3884 15923 2008 2003 1996 2946 1997 2019 2779 2529 2192 1012 2302 2062 2592 1010 2029 4861 2055 1996 15923 2003 2087 3497 8321 1029 2009 2003 2081 1997 2116 4442 1012 102\n",
            "INFO:__main__:input_mask: 1 1 1 1 1 1 1 1 1 1 1 1 1 1 1 1 1 1 1 1 1 1 1 1 1 1 1 1 1 1 1 1 1 1 1 1 1 1 1 1 1 1 1 1 1 1 1 1 1 1 1 1 1 1 1 1 1 1 1 1 1 1 1 1 1 1 1 1 1 1 1 1 1 1 1 1 1 1 1 1 1 1 1 1 1 1 1 1 1 1 1 1 1 1 1 1 1 1 1 1\n",
            "INFO:__main__:segment_ids: 0 0 0 0 0 0 0 0 0 0 0 0 0 0 0 0 0 0 0 0 0 0 0 0 0 0 0 0 0 0 0 0 0 0 0 0 0 0 0 0 0 0 0 0 0 0 0 0 0 0 0 0 0 0 0 0 0 0 0 0 0 0 1 1 1 1 1 1 1 1 1 1 1 1 1 1 1 1 1 1 1 1 1 1 1 1 1 1 1 1 1 1 1 1 1 1 1 1 1 1\n",
            "INFO:__main__:choice: 3\n",
            "INFO:__main__:tokens: [CLS] te ##m is used mainly for organic research , like examining a slice of a human lung . accurate information , provided through field and laboratory research of marine life with the regard to toxin ##s and chemicals , identifies possible hazardous health situations for humans and marine life . the average organism size was 31 % higher within marine national [SEP] a researcher examines a marine organism that is the size of an average human hand . without more information , which statement about the organism is most likely accurate ? it makes its own food . [SEP]\n",
            "INFO:__main__:input_ids: 101 8915 2213 2003 2109 3701 2005 7554 2470 1010 2066 12843 1037 14704 1997 1037 2529 11192 1012 8321 2592 1010 3024 2083 2492 1998 5911 2470 1997 3884 2166 2007 1996 7634 2000 29090 2015 1998 12141 1010 14847 2825 17760 2740 8146 2005 4286 1998 3884 2166 1012 1996 2779 15923 2946 2001 2861 1003 3020 2306 3884 2120 102 1037 10753 20798 1037 3884 15923 2008 2003 1996 2946 1997 2019 2779 2529 2192 1012 2302 2062 2592 1010 2029 4861 2055 1996 15923 2003 2087 3497 8321 1029 2009 3084 2049 2219 2833 1012 102\n",
            "INFO:__main__:input_mask: 1 1 1 1 1 1 1 1 1 1 1 1 1 1 1 1 1 1 1 1 1 1 1 1 1 1 1 1 1 1 1 1 1 1 1 1 1 1 1 1 1 1 1 1 1 1 1 1 1 1 1 1 1 1 1 1 1 1 1 1 1 1 1 1 1 1 1 1 1 1 1 1 1 1 1 1 1 1 1 1 1 1 1 1 1 1 1 1 1 1 1 1 1 1 1 1 1 1 1 1\n",
            "INFO:__main__:segment_ids: 0 0 0 0 0 0 0 0 0 0 0 0 0 0 0 0 0 0 0 0 0 0 0 0 0 0 0 0 0 0 0 0 0 0 0 0 0 0 0 0 0 0 0 0 0 0 0 0 0 0 0 0 0 0 0 0 0 0 0 0 0 0 0 1 1 1 1 1 1 1 1 1 1 1 1 1 1 1 1 1 1 1 1 1 1 1 1 1 1 1 1 1 1 1 1 1 1 1 1 1\n",
            "INFO:__main__:label: 2\n",
            "INFO:__main__:*** Example ***\n",
            "INFO:__main__:question_id: Mercury_7227833\n",
            "INFO:__main__:choice: 0\n",
            "INFO:__main__:tokens: [CLS] cell and virus structure - virus and cell membrane structure ; cell and virus structure - virus and cell membrane structure ; cell and virus structure - virus and cell membrane structure ; cell and virus structure - virus and cell membrane structure ; [SEP] what structure can be found in both a virus and a cell ? nuclei ##c acid chain [SEP]\n",
            "INFO:__main__:input_ids: 101 3526 1998 7865 3252 1011 7865 1998 3526 10804 3252 1025 3526 1998 7865 3252 1011 7865 1998 3526 10804 3252 1025 3526 1998 7865 3252 1011 7865 1998 3526 10804 3252 1025 3526 1998 7865 3252 1011 7865 1998 3526 10804 3252 1025 102 2054 3252 2064 2022 2179 1999 2119 1037 7865 1998 1037 3526 1029 23767 2278 5648 4677 102 0 0 0 0 0 0 0 0 0 0 0 0 0 0 0 0 0 0 0 0 0 0 0 0 0 0 0 0 0 0 0 0 0 0 0 0\n",
            "INFO:__main__:input_mask: 1 1 1 1 1 1 1 1 1 1 1 1 1 1 1 1 1 1 1 1 1 1 1 1 1 1 1 1 1 1 1 1 1 1 1 1 1 1 1 1 1 1 1 1 1 1 1 1 1 1 1 1 1 1 1 1 1 1 1 1 1 1 1 1 0 0 0 0 0 0 0 0 0 0 0 0 0 0 0 0 0 0 0 0 0 0 0 0 0 0 0 0 0 0 0 0 0 0 0 0\n",
            "INFO:__main__:segment_ids: 0 0 0 0 0 0 0 0 0 0 0 0 0 0 0 0 0 0 0 0 0 0 0 0 0 0 0 0 0 0 0 0 0 0 0 0 0 0 0 0 0 0 0 0 0 0 1 1 1 1 1 1 1 1 1 1 1 1 1 1 1 1 1 1 0 0 0 0 0 0 0 0 0 0 0 0 0 0 0 0 0 0 0 0 0 0 0 0 0 0 0 0 0 0 0 0 0 0 0 0\n",
            "INFO:__main__:choice: 1\n",
            "INFO:__main__:tokens: [CLS] cell and virus structure - virus and cell membrane structure ; cell and virus structure - virus and cell membrane structure ; cell and virus structure - virus and cell membrane structure ; cell and virus structure - virus and cell membrane structure ; [SEP] what structure can be found in both a virus and a cell ? go ##l ##gi apparatus [SEP]\n",
            "INFO:__main__:input_ids: 101 3526 1998 7865 3252 1011 7865 1998 3526 10804 3252 1025 3526 1998 7865 3252 1011 7865 1998 3526 10804 3252 1025 3526 1998 7865 3252 1011 7865 1998 3526 10804 3252 1025 3526 1998 7865 3252 1011 7865 1998 3526 10804 3252 1025 102 2054 3252 2064 2022 2179 1999 2119 1037 7865 1998 1037 3526 1029 2175 2140 5856 14709 102 0 0 0 0 0 0 0 0 0 0 0 0 0 0 0 0 0 0 0 0 0 0 0 0 0 0 0 0 0 0 0 0 0 0 0 0\n",
            "INFO:__main__:input_mask: 1 1 1 1 1 1 1 1 1 1 1 1 1 1 1 1 1 1 1 1 1 1 1 1 1 1 1 1 1 1 1 1 1 1 1 1 1 1 1 1 1 1 1 1 1 1 1 1 1 1 1 1 1 1 1 1 1 1 1 1 1 1 1 1 0 0 0 0 0 0 0 0 0 0 0 0 0 0 0 0 0 0 0 0 0 0 0 0 0 0 0 0 0 0 0 0 0 0 0 0\n",
            "INFO:__main__:segment_ids: 0 0 0 0 0 0 0 0 0 0 0 0 0 0 0 0 0 0 0 0 0 0 0 0 0 0 0 0 0 0 0 0 0 0 0 0 0 0 0 0 0 0 0 0 0 0 1 1 1 1 1 1 1 1 1 1 1 1 1 1 1 1 1 1 0 0 0 0 0 0 0 0 0 0 0 0 0 0 0 0 0 0 0 0 0 0 0 0 0 0 0 0 0 0 0 0 0 0 0 0\n",
            "INFO:__main__:choice: 2\n",
            "INFO:__main__:tokens: [CLS] cell and virus structure - virus and cell membrane structure ; cell and virus structure - virus and cell membrane structure ; cell and virus structure - virus and cell membrane structure ; cell and virus structure - virus and cell membrane structure ; [SEP] what structure can be found in both a virus and a cell ? end ##op ##las ##mic re ##tic ##ulum [SEP]\n",
            "INFO:__main__:input_ids: 101 3526 1998 7865 3252 1011 7865 1998 3526 10804 3252 1025 3526 1998 7865 3252 1011 7865 1998 3526 10804 3252 1025 3526 1998 7865 3252 1011 7865 1998 3526 10804 3252 1025 3526 1998 7865 3252 1011 7865 1998 3526 10804 3252 1025 102 2054 3252 2064 2022 2179 1999 2119 1037 7865 1998 1037 3526 1029 2203 7361 8523 7712 2128 4588 25100 102 0 0 0 0 0 0 0 0 0 0 0 0 0 0 0 0 0 0 0 0 0 0 0 0 0 0 0 0 0 0 0 0 0\n",
            "INFO:__main__:input_mask: 1 1 1 1 1 1 1 1 1 1 1 1 1 1 1 1 1 1 1 1 1 1 1 1 1 1 1 1 1 1 1 1 1 1 1 1 1 1 1 1 1 1 1 1 1 1 1 1 1 1 1 1 1 1 1 1 1 1 1 1 1 1 1 1 1 1 1 0 0 0 0 0 0 0 0 0 0 0 0 0 0 0 0 0 0 0 0 0 0 0 0 0 0 0 0 0 0 0 0 0\n",
            "INFO:__main__:segment_ids: 0 0 0 0 0 0 0 0 0 0 0 0 0 0 0 0 0 0 0 0 0 0 0 0 0 0 0 0 0 0 0 0 0 0 0 0 0 0 0 0 0 0 0 0 0 0 1 1 1 1 1 1 1 1 1 1 1 1 1 1 1 1 1 1 1 1 1 0 0 0 0 0 0 0 0 0 0 0 0 0 0 0 0 0 0 0 0 0 0 0 0 0 0 0 0 0 0 0 0 0\n",
            "INFO:__main__:choice: 3\n",
            "INFO:__main__:tokens: [CLS] cell and virus structure - virus and cell membrane structure ; cell and virus structure - virus and cell membrane structure ; cell and virus structure - virus and cell membrane structure ; cell and virus structure - virus and cell membrane structure ; [SEP] what structure can be found in both a virus and a cell ? nuclear membrane [SEP]\n",
            "INFO:__main__:input_ids: 101 3526 1998 7865 3252 1011 7865 1998 3526 10804 3252 1025 3526 1998 7865 3252 1011 7865 1998 3526 10804 3252 1025 3526 1998 7865 3252 1011 7865 1998 3526 10804 3252 1025 3526 1998 7865 3252 1011 7865 1998 3526 10804 3252 1025 102 2054 3252 2064 2022 2179 1999 2119 1037 7865 1998 1037 3526 1029 4517 10804 102 0 0 0 0 0 0 0 0 0 0 0 0 0 0 0 0 0 0 0 0 0 0 0 0 0 0 0 0 0 0 0 0 0 0 0 0 0 0\n",
            "INFO:__main__:input_mask: 1 1 1 1 1 1 1 1 1 1 1 1 1 1 1 1 1 1 1 1 1 1 1 1 1 1 1 1 1 1 1 1 1 1 1 1 1 1 1 1 1 1 1 1 1 1 1 1 1 1 1 1 1 1 1 1 1 1 1 1 1 1 0 0 0 0 0 0 0 0 0 0 0 0 0 0 0 0 0 0 0 0 0 0 0 0 0 0 0 0 0 0 0 0 0 0 0 0 0 0\n",
            "INFO:__main__:segment_ids: 0 0 0 0 0 0 0 0 0 0 0 0 0 0 0 0 0 0 0 0 0 0 0 0 0 0 0 0 0 0 0 0 0 0 0 0 0 0 0 0 0 0 0 0 0 0 1 1 1 1 1 1 1 1 1 1 1 1 1 1 1 1 0 0 0 0 0 0 0 0 0 0 0 0 0 0 0 0 0 0 0 0 0 0 0 0 0 0 0 0 0 0 0 0 0 0 0 0 0 0\n",
            "INFO:__main__:label: 0\n"
          ],
          "name": "stderr"
        }
      ]
    },
    {
      "metadata": {
        "id": "0gd5n0MCRb9H",
        "colab_type": "code",
        "colab": {}
      },
      "cell_type": "code",
      "source": [
        "train_sampler = RandomSampler(dataset_train)\n",
        "train_dataloader = DataLoader(dataset_train, batch_size=TRAIN_BATCH_SIZE, sampler=train_sampler)\n",
        "train_sampler = RandomSampler(dataset_val)\n",
        "val_dataloader = DataLoader(dataset_val, batch_size=TRAIN_BATCH_SIZE, sampler=train_sampler)"
      ],
      "execution_count": 0,
      "outputs": []
    },
    {
      "metadata": {
        "id": "qTEiBAFHgxeC",
        "colab_type": "code",
        "outputId": "06af27d9-c3cf-488a-f821-31e3340fccd1",
        "colab": {
          "base_uri": "https://localhost:8080/",
          "height": 34
        }
      },
      "cell_type": "code",
      "source": [
        "#Uncomment for testing eval\n",
        "#eval_sampler = SequentialSampler(dataset)\n",
        "#eval_dataloader = DataLoader(dataset, batch_size=VAL_BATCH_SIZE, sampler=eval_sampler)\n",
        "\n",
        "mp_train_dataset, mp_val_dataset =  random_split(dataset, get_train_val_size(len(arc_instances)))\n",
        "train_sampler = RandomSampler(mp_train_dataset)\n",
        "mp_train_dataloader = DataLoader(mp_train_dataset, batch_size=TRAIN_BATCH_SIZE, sampler=train_sampler)\n",
        "\n",
        "val_sampler = SequentialSampler(mp_val_dataset)\n",
        "mp_val_dataloader = DataLoader(mp_val_dataset, batch_size=VAL_BATCH_SIZE, sampler=val_sampler)"
      ],
      "execution_count": 83,
      "outputs": [
        {
          "output_type": "stream",
          "text": [
            "Train Size : 58 ; Validation Size : 26\n"
          ],
          "name": "stdout"
        }
      ]
    },
    {
      "metadata": {
        "id": "mbh38Bb5to6f",
        "colab_type": "text"
      },
      "cell_type": "markdown",
      "source": [
        "# Model Training and Evaluation"
      ]
    },
    {
      "metadata": {
        "id": "yV6-iTfo2Ucn",
        "colab_type": "text"
      },
      "cell_type": "markdown",
      "source": [
        "## Common"
      ]
    },
    {
      "metadata": {
        "id": "3NKBGs2j0b7d",
        "colab_type": "code",
        "colab": {}
      },
      "cell_type": "code",
      "source": [
        "def get_optimizer(model,train_dataset):\n",
        "    # Prepare optimizer\n",
        "    num_train_optimization_steps = int(len(train_dataset) / TRAIN_BATCH_SIZE ) * NUM_EPOCHS\n",
        "    param_optimizer = list(model.named_parameters())\n",
        "\n",
        "    # hack to remove pooler, which is not used\n",
        "    # thus it produce None grad that break apex\n",
        "    param_optimizer = [n for n in param_optimizer if 'pooler' not in n[0]]\n",
        "\n",
        "    no_decay = ['bias', 'LayerNorm.bias', 'LayerNorm.weight']\n",
        "    optimizer_grouped_parameters = [\n",
        "        {'params': [p for n, p in param_optimizer if not any(nd in n for nd in no_decay)], 'weight_decay': 0.01},\n",
        "        {'params': [p for n, p in param_optimizer if any(nd in n for nd in no_decay)], 'weight_decay': 0.0}\n",
        "    ]\n",
        "    optimizer = BertAdam(optimizer_grouped_parameters, lr=LR)\n",
        "    return optimizer"
      ],
      "execution_count": 0,
      "outputs": []
    },
    {
      "metadata": {
        "id": "mtmfdT_d8fpD",
        "colab_type": "code",
        "colab": {}
      },
      "cell_type": "code",
      "source": [
        "def accuracy(out, labels):\n",
        "    outputs = np.argmax(out, axis=1)\n",
        "    return np.sum(outputs == labels)"
      ],
      "execution_count": 0,
      "outputs": []
    },
    {
      "metadata": {
        "id": "N0KlrB7P0hRB",
        "colab_type": "text"
      },
      "cell_type": "markdown",
      "source": [
        "## Benchmark Model"
      ]
    },
    {
      "metadata": {
        "id": "Seobf9WL0lPz",
        "colab_type": "text"
      },
      "cell_type": "markdown",
      "source": [
        "Here we are using a pretrained BERT model without any training as our Benchmark model. "
      ]
    },
    {
      "metadata": {
        "id": "g02x_cAs2jUV",
        "colab_type": "code",
        "colab": {}
      },
      "cell_type": "code",
      "source": [
        "def eval_model(model, dataloader):\n",
        "    model.eval()\n",
        "    model.to(device)\n",
        "    eval_loss, eval_accuracy = 0, 0\n",
        "    nb_eval_steps, nb_eval_examples = 0, 0\n",
        "    for batch in dataloader:\n",
        "        batch = tuple(t.to(device) for t in batch)\n",
        "        input_ids, input_mask, segment_ids, label_ids = batch\n",
        "        with torch.no_grad():\n",
        "            tmp_eval_loss = model(input_ids, segment_ids, input_mask, label_ids)\n",
        "            logits = model(input_ids, segment_ids, input_mask)\n",
        "        logits = logits.detach().cpu().numpy()\n",
        "        label_ids = label_ids.to('cpu').numpy()\n",
        "        tmp_eval_accuracy = accuracy(logits, label_ids)\n",
        "        \n",
        "        eval_loss += tmp_eval_loss.mean().item()\n",
        "        eval_accuracy += tmp_eval_accuracy\n",
        "\n",
        "        nb_eval_examples += input_ids.size(0)\n",
        "        nb_eval_steps += 1\n",
        "\n",
        "    eval_loss = eval_loss / nb_eval_steps\n",
        "    eval_accuracy = eval_accuracy / nb_eval_examples\n",
        "    print(f'Eval accuracy {eval_accuracy:.3f} Eval loss : {eval_loss:.3f} val size : {nb_eval_examples}')"
      ],
      "execution_count": 0,
      "outputs": []
    },
    {
      "metadata": {
        "id": "ZZxu3p5KR1Sj",
        "colab_type": "text"
      },
      "cell_type": "markdown",
      "source": [
        "<br>\n",
        "<br>\n",
        "For evaluation on the base line uncomment the following lines of code and run"
      ]
    },
    {
      "metadata": {
        "id": "gOKLwPLXNeLZ",
        "colab_type": "code",
        "colab": {}
      },
      "cell_type": "code",
      "source": [
        "#Uncomment for running eval\n",
        "#bert_model = BertForMultipleChoice.from_pretrained('bert-base-uncased', cache_dir='bert_pretrained_model', num_choices=4)\n",
        "#eval_model(bert_model, eval_dataloader)"
      ],
      "execution_count": 0,
      "outputs": []
    },
    {
      "metadata": {
        "id": "JdoHvS8IDMrs",
        "colab_type": "code",
        "colab": {}
      },
      "cell_type": "code",
      "source": [
        "#Let's try to free up some space\n",
        "#del bert_model\n",
        "#del eval_dataloader"
      ],
      "execution_count": 0,
      "outputs": []
    },
    {
      "metadata": {
        "id": "aZDF1nY32Ko6",
        "colab_type": "text"
      },
      "cell_type": "markdown",
      "source": [
        "## Model Training"
      ]
    },
    {
      "metadata": {
        "id": "K7_6V6QnNRG6",
        "colab_type": "code",
        "colab": {}
      },
      "cell_type": "code",
      "source": [
        "def train_model(model, train_dataloader, val_dataloader, optimizer, num_epochs=10):\n",
        "    model.to(device)\n",
        "    for epoch in range(num_epochs):\n",
        "        model.train()\n",
        "        running_loss, running_corrects = 0, 0   \n",
        "        nb_tr_steps, nb_tr_examples = 0, 0\n",
        "        for step, batch in enumerate(train_dataloader):\n",
        "            # zero the parameter gradients\n",
        "            optimizer.zero_grad()\n",
        "            batch = tuple(t.to(device) for t in batch)\n",
        "            input_ids, input_mask, segment_ids, label_ids = batch\n",
        "            loss = model(input_ids, segment_ids, input_mask, label_ids)\n",
        "            logits = model(input_ids, segment_ids, input_mask)\n",
        "            logits = logits.detach().cpu().numpy()\n",
        "            label_ids = label_ids.to('cpu').numpy()\n",
        "            tmp_accuracy = accuracy(logits, label_ids)\n",
        "            \n",
        "            running_loss += loss.item()\n",
        "            running_corrects += tmp_accuracy\n",
        "            loss.backward()\n",
        "            optimizer.step()\n",
        "        epoch_loss = running_loss / len(train_dataloader.dataset)\n",
        "        epoch_accuracy = running_corrects / len(train_dataloader.dataset)\n",
        "\n",
        "        print(f'Epoch {epoch} acc : {epoch_accuracy:.3f} loss : {epoch_loss:.3f} ') #' accuracy : {epoch_accuracy:.3f}')"
      ],
      "execution_count": 0,
      "outputs": []
    },
    {
      "metadata": {
        "id": "Nb-anzddSLzE",
        "colab_type": "code",
        "colab": {}
      },
      "cell_type": "code",
      "source": [
        "def train_val_model(model, train_dataloader, val_dataloader, optimizer, num_epochs=10):\n",
        "    model.to(device)\n",
        "    for epoch in range(num_epochs):\n",
        "        for phase in ['train', 'val']:\n",
        "            if phase == 'train':\n",
        "                model.train()\n",
        "                dataloader = train_dataloader\n",
        "            else :\n",
        "                model.eval()\n",
        "                dataloader = val_dataloader\n",
        "            running_loss, running_corrects = 0, 0  \n",
        "            num_steps, num_examples = 0, 0\n",
        "            for step, batch in enumerate(train_dataloader):\n",
        "                # zero the parameter gradients\n",
        "                optimizer.zero_grad()\n",
        "                batch = tuple(t.to(device) for t in batch)\n",
        "                input_ids, input_mask, segment_ids, label_ids = batch\n",
        "                with torch.set_grad_enabled(phase == 'train'):\n",
        "                    loss = model(input_ids, segment_ids, input_mask, label_ids)\n",
        "                    logits = model(input_ids, segment_ids, input_mask)\n",
        "                logits = logits.detach().cpu().numpy()\n",
        "                label_ids = label_ids.to('cpu').numpy()\n",
        "                corrects = accuracy(logits, label_ids)\n",
        "\n",
        "                running_loss += loss.mean().item()\n",
        "                running_corrects += corrects\n",
        "                \n",
        "                num_examples += input_ids.size(0)\n",
        "                num_steps += 1\n",
        "                if phase == 'train':\n",
        "                    loss.backward()\n",
        "                    optimizer.step()\n",
        "            epoch_loss = running_loss / num_steps\n",
        "            epoch_accuracy = running_corrects / num_examples\n",
        "\n",
        "            print(f'Epoch {epoch} {phase} acc : {epoch_accuracy:.3f} loss : {epoch_loss:.3f} ')"
      ],
      "execution_count": 0,
      "outputs": []
    },
    {
      "metadata": {
        "id": "PN2K06eRN5qb",
        "colab_type": "text"
      },
      "cell_type": "markdown",
      "source": [
        "<br>\n",
        "<br>\n",
        "\n",
        "For training we are not separating the easy and challenge problem sets as we want to stimulate real world results."
      ]
    },
    {
      "metadata": {
        "id": "QUIoUQwqOrNj",
        "colab_type": "text"
      },
      "cell_type": "markdown",
      "source": [
        "# Pre-Training without corpus"
      ]
    },
    {
      "metadata": {
        "id": "y7NBNW-bBFfY",
        "colab_type": "code",
        "outputId": "ca5d01fe-d492-437c-fa65-f74a89751ca2",
        "colab": {
          "base_uri": "https://localhost:8080/",
          "height": 507
        }
      },
      "cell_type": "code",
      "source": [
        "bert_model = BertForMultipleChoice.from_pretrained('bert-base-uncased', cache_dir='bert_pretrained_model', num_choices=4)\n",
        "optimizer = get_optimizer(bert_model,dataset_train)\n",
        "model = train_val_model(bert_model, train_dataloader=train_dataloader, val_dataloader=val_dataloader, optimizer=optimizer, num_epochs=NUM_EPOCHS)"
      ],
      "execution_count": 91,
      "outputs": [
        {
          "output_type": "stream",
          "text": [
            "INFO:pytorch_pretrained_bert.modeling:loading archive file https://s3.amazonaws.com/models.huggingface.co/bert/bert-base-uncased.tar.gz from cache at bert_pretrained_model/9c41111e2de84547a463fd39217199738d1e3deb72d4fec4399e6e241983c6f0.ae3cef932725ca7a30cdcb93fc6e09150a55e2a130ec7af63975a16c153ae2ba\n",
            "INFO:pytorch_pretrained_bert.modeling:extracting archive file bert_pretrained_model/9c41111e2de84547a463fd39217199738d1e3deb72d4fec4399e6e241983c6f0.ae3cef932725ca7a30cdcb93fc6e09150a55e2a130ec7af63975a16c153ae2ba to temp dir /tmp/tmph5aah31c\n",
            "INFO:pytorch_pretrained_bert.modeling:Model config {\n",
            "  \"attention_probs_dropout_prob\": 0.1,\n",
            "  \"hidden_act\": \"gelu\",\n",
            "  \"hidden_dropout_prob\": 0.1,\n",
            "  \"hidden_size\": 768,\n",
            "  \"initializer_range\": 0.02,\n",
            "  \"intermediate_size\": 3072,\n",
            "  \"max_position_embeddings\": 512,\n",
            "  \"num_attention_heads\": 12,\n",
            "  \"num_hidden_layers\": 12,\n",
            "  \"type_vocab_size\": 2,\n",
            "  \"vocab_size\": 30522\n",
            "}\n",
            "\n",
            "INFO:pytorch_pretrained_bert.modeling:Weights of BertForMultipleChoice not initialized from pretrained model: ['classifier.weight', 'classifier.bias']\n",
            "INFO:pytorch_pretrained_bert.modeling:Weights from pretrained model not used in BertForMultipleChoice: ['cls.predictions.bias', 'cls.predictions.transform.dense.weight', 'cls.predictions.transform.dense.bias', 'cls.predictions.decoder.weight', 'cls.seq_relationship.weight', 'cls.seq_relationship.bias', 'cls.predictions.transform.LayerNorm.weight', 'cls.predictions.transform.LayerNorm.bias']\n"
          ],
          "name": "stderr"
        },
        {
          "output_type": "stream",
          "text": [
            "Epoch 0 train acc : 0.254 loss : 1.395 \n",
            "Epoch 0 val acc : 0.241 loss : 1.386 \n",
            "Epoch 1 train acc : 0.250 loss : 1.391 \n",
            "Epoch 1 val acc : 0.256 loss : 1.386 \n",
            "Epoch 2 train acc : 0.242 loss : 1.392 \n",
            "Epoch 2 val acc : 0.261 loss : 1.386 \n",
            "Epoch 3 train acc : 0.247 loss : 1.392 \n",
            "Epoch 3 val acc : 0.277 loss : 1.386 \n",
            "Epoch 4 train acc : 0.253 loss : 1.389 \n",
            "Epoch 4 val acc : 0.237 loss : 1.386 \n"
          ],
          "name": "stdout"
        }
      ]
    },
    {
      "metadata": {
        "id": "oKCFtTbUOOvr",
        "colab_type": "text"
      },
      "cell_type": "markdown",
      "source": [
        "<br>\n",
        "<br>\n",
        "As we can see from the parameters of the bert Base model, the size of the vocabulary is 30522, which is too high for our problem statement. This arises a need to train with corpus. Due to unavailability of corpus knowledge base for the whole train and test data, we only use it for the problem set. "
      ]
    },
    {
      "metadata": {
        "id": "lXhlMyZyKYBD",
        "colab_type": "code",
        "colab": {
          "base_uri": "https://localhost:8080/",
          "height": 185
        },
        "outputId": "b1e7caf6-7873-48a4-afe4-9d0737708bcc"
      },
      "cell_type": "code",
      "source": [
        "optimizer = get_optimizer(bert_model,dataset_train)\n",
        "train_val_model(bert_model, train_dataloader=mp_train_dataloader, val_dataloader=mp_val_dataloader, optimizer=optimizer, num_epochs=5)"
      ],
      "execution_count": 108,
      "outputs": [
        {
          "output_type": "stream",
          "text": [
            "Epoch 0 train acc : 0.259 loss : 1.411 \n",
            "Epoch 0 val acc : 0.172 loss : 1.386 \n",
            "Epoch 1 train acc : 0.172 loss : 1.399 \n",
            "Epoch 1 val acc : 0.310 loss : 1.386 \n",
            "Epoch 2 train acc : 0.259 loss : 1.409 \n",
            "Epoch 2 val acc : 0.155 loss : 1.386 \n",
            "Epoch 3 train acc : 0.207 loss : 1.424 \n",
            "Epoch 3 val acc : 0.259 loss : 1.386 \n",
            "Epoch 4 train acc : 0.241 loss : 1.378 \n",
            "Epoch 4 val acc : 0.207 loss : 1.386 \n"
          ],
          "name": "stdout"
        }
      ]
    },
    {
      "metadata": {
        "id": "EuoeneNqiSpd",
        "colab_type": "code",
        "colab": {
          "base_uri": "https://localhost:8080/",
          "height": 34
        },
        "outputId": "9fb243a4-1645-45c6-e838-43e86ce91da5"
      },
      "cell_type": "code",
      "source": [
        "eval_model(bert_model, mp_val_dataloader)"
      ],
      "execution_count": 109,
      "outputs": [
        {
          "output_type": "stream",
          "text": [
            "Eval accuracy 0.346 Eval loss : 1.386 val size : 26\n"
          ],
          "name": "stdout"
        }
      ]
    },
    {
      "metadata": {
        "id": "6WxDdIAlRTNw",
        "colab_type": "text"
      },
      "cell_type": "markdown",
      "source": [
        "# Experiment results\n"
      ]
    },
    {
      "metadata": {
        "id": "UvF_UV85SR9J",
        "colab_type": "text"
      },
      "cell_type": "markdown",
      "source": [
        "|Experiment details                     | Train Acc | Train loss | Val Acc | Val loss | Num Epochs |\n",
        "|--------------------------------------------|:---------------:|:--------------:|:------------:|:------------:|:--------------------:|\n",
        "|Full validation without corpus | 0.248 | 1.389| 0.239 | 1.386|5\n",
        "|Problem subset with corpus | 0.241 | 1.378| 0.207 | 1.386|5\n",
        "<br>\n",
        "\n",
        "|Experiment details                     | Eval Acc | Eval loss | Val Size | Num Epochs |\n",
        "|--------------------------------------------|:---------------:|:--------------:|:------------:|:------------:|:--------------------:|\n",
        "|Evalutation  | 0346 | 1.386|26|5"
      ]
    },
    {
      "metadata": {
        "id": "I39Y3zenFu7r",
        "colab_type": "text"
      },
      "cell_type": "markdown",
      "source": [
        "# Conclusion"
      ]
    },
    {
      "metadata": {
        "id": "HNyjyyuFH8VS",
        "colab_type": "text"
      },
      "cell_type": "markdown",
      "source": [
        "These are the conclusions that we have reached after our testing :\n",
        "\n",
        "1. A benchmark model that uses BERT \n",
        "2. The BERT needs to be pre-trained on corpus which we havent done, we didnt have the knowledge base for the ARC Dataset\n",
        "3. A better way of feeding in the data, explore training on just the corpus first and then the queries\n",
        "\n",
        "\n",
        "What are things that might increase performance of the mode :\n",
        "1. More data \n",
        "2. A more comprehensive corpus"
      ]
    }
  ]
}